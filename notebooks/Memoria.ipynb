{
 "cells": [
  {
   "cell_type": "markdown",
   "metadata": {},
   "source": [
    "# **Resumen del Notebook**\n",
    "\n",
    "Este notebook se centra en el análisis y procesamiento de datos relacionados con videojuegos. \n",
    "Se han realizado diversas etapas para explorar, limpiar y visualizar la información con el objetivo de extraer patrones y tendencias útiles.\n",
    "\n",
    "## **1. Análisis Exploratorio de Datos (EDA)**\n",
    "- Se realizó una inspección inicial de los datos, identificando variables categóricas y numéricas.\n",
    "- Se aplicaron pruebas de normalidad (`Shapiro-Wilk`, `Kolmogorov-Smirnov`, `Anderson-Darling`) para evaluar la distribución de variables clave como `rating`, `metacritic` y `playtime`, concluyendo que **ninguna sigue una distribución normal**.\n",
    "- Se generaron gráficos de dispersión (`scatterplot`), diagramas de caja (`boxplot`) y diagramas de densidad (`kdeplot`) para comprender mejor la distribución y relaciones entre variables.\n",
    "\n",
    "## **2. Detección de Outliers**\n",
    "- Se usó el **Rango Intercuartil (IQR)** para identificar valores atípicos en las variables numéricas.\n",
    "- Se encontraron valores extremos en varias variables, lo que sugiere la necesidad de un tratamiento especial en futuras etapas del análisis.\n",
    "\n",
    "## **3. Correlación entre Variables**\n",
    "- Se generó una **matriz de correlación agrupada** (`clustermap`) para visualizar relaciones entre variables numéricas.\n",
    "- Se identificaron patrones de correlación entre `rating`, `playtime`, `metacritic` y otras características del dataset.\n",
    "\n",
    "## **4. Visualización de Variables Categóricas**\n",
    "- Se analizaron las distribuciones de `main_genre` y `metacritic_category` mediante gráficos de barras (`countplot`).\n",
    "- Se observaron diferencias en la popularidad y calificaciones de distintos géneros de videojuegos.\n",
    "\n",
    "## **5. Relación Entre Ratings y Variables**\n",
    "- Se exploró la relación entre `ratings_count` y `rating` mediante gráficos de dispersión (`scatterplot`), encontrando que los juegos con más calificaciones tienden a tener ratings más estables.\n",
    "- Se utilizó un gráfico de línea para analizar la evolución de los ratings promedio a lo largo de los años (`release_year`), mostrando tendencias en la percepción de los videojuegos.\n",
    "\n",
    "## **Conclusión**\n",
    "- Se ha obtenido una **visión clara de la distribución y relaciones entre las variables** en el dataset.\n",
    "- **Los datos no siguen una distribución normal**, lo que sugiere el uso de técnicas estadísticas no paramétricas.\n",
    "- Se han identificado **outliers** en varias variables que pueden afectar el análisis si no se manejan adecuadamente.\n",
    "- Existen **diferencias notables en los ratings según el género y la cantidad de calificaciones**, lo que indica que ciertos juegos son más populares o mejor valorados que otros.\n",
    "- Se detectaron **tendencias a lo largo del tiempo**, lo que sugiere cambios en la percepción de los videojuegos por parte de los usuarios.\n",
    "\n",
    "\n"
   ]
  },
  {
   "cell_type": "markdown",
   "metadata": {},
   "source": [
    "## Features a considerar\n",
    "\n",
    "1. Features Temporales\n",
    "- ✅ release_decade → Crear una variable categórica indicando la década del lanzamiento del juego.\n",
    "- ✅ release_season → Convertir la fecha de lanzamiento en estaciones (verano, invierno, etc.) para ver si hay patrones estacionales en los ratings.\n",
    "- ✅ age_of_game → Calcular la antigüedad del juego (año_actual - release_year).\n",
    "\n",
    "2. Features Categóricas Transformadas\n",
    "- ✅ is_highly_rated → Variable binaria (1 si rating > umbral, 0 si no).\n",
    "- ✅ genre_encoded → Codificación numérica o one-hot encoding de main_genre.\n",
    "- ✅ metacritic_category_encoded → Convertir metacritic_category en una variable numérica ordenada (0 para \"Malo\", 1 para \"Regular\", etc.)."
   ]
  }
 ],
 "metadata": {
  "kernelspec": {
   "display_name": "ml-DsEFPCCK-py3.11",
   "language": "python",
   "name": "python3"
  },
  "language_info": {
   "name": "python",
   "version": "3.11.9"
  }
 },
 "nbformat": 4,
 "nbformat_minor": 2
}
