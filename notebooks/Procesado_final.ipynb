{
 "cells": [
  {
   "cell_type": "code",
   "execution_count": null,
   "metadata": {},
   "outputs": [
    {
     "ename": "",
     "evalue": "",
     "output_type": "error",
     "traceback": [
      "\u001b[1;31mFailed to start the Kernel. \n",
      "\u001b[1;31mUnable to start Kernel 'ml-DsEFPCCK-py3.11 (Python 3.11.9)' due to a timeout waiting for the ports to get used. \n",
      "\u001b[1;31mView Jupyter <a href='command:jupyter.viewOutput'>log</a> for further details."
     ]
    }
   ],
   "source": [
    "import os\n",
    "import sys\n",
    "module_path = os.path.abspath(os.path.join('..'))\n",
    "if module_path not in sys.path:\n",
    "    sys.path.append(module_path)"
   ]
  },
  {
   "cell_type": "code",
   "execution_count": null,
   "metadata": {},
   "outputs": [],
   "source": [
    "import pandas as pd\n",
    "import numpy as np\n",
    "from sklearn.model_selection import train_test_split, GridSearchCV, StratifiedKFold, cross_val_score, StratifiedKFold \n",
    "from sklearn.ensemble import RandomForestClassifier, GradientBoostingClassifier\n",
    "from sklearn.linear_model import LogisticRegression\n",
    "from sklearn.svm import SVC\n",
    "from sklearn.preprocessing import StandardScaler, OneHotEncoder, LabelEncoder\n",
    "from sklearn.metrics import silhouette_score, classification_report, confusion_matrix, accuracy_score, f1_score, mean_squared_error, mean_absolute_error, r2_score\n",
    "from sklearn.decomposition import PCA\n",
    "from sklearn.cluster import KMeans\n",
    "from sklearn.pipeline import Pipeline\n",
    "from sklearn.compose import ColumnTransformer\n",
    "from sklearn.impute import SimpleImputer\n",
    "from sklearn.feature_selection import SelectFromModel\n",
    "from imblearn.over_sampling import SMOTE\n",
    "import matplotlib.pyplot as plt\n",
    "import seaborn as sns\n",
    "import warnings\n",
    "warnings.filterwarnings('ignore')"
   ]
  },
  {
   "cell_type": "code",
   "execution_count": null,
   "metadata": {},
   "outputs": [],
   "source": [
    "file_path = '../data/processed/Juegorawg_limpio.csv'\n",
    "df = pd.read_csv(file_path)\n",
    "df.copy()"
   ]
  },
  {
   "cell_type": "code",
   "execution_count": null,
   "metadata": {},
   "outputs": [],
   "source": [
    "print(f\"Dimensiones del dataset: {df.shape}\")\n",
    "print(\"\\nEstadísticas descriptivas de rating:\")\n",
    "print(df['rating'].describe())"
   ]
  },
  {
   "cell_type": "markdown",
   "metadata": {},
   "source": [
    "# Preprocesamiento"
   ]
  },
  {
   "cell_type": "code",
   "execution_count": null,
   "metadata": {},
   "outputs": [],
   "source": [
    "print(\"\\n\" + \"=\"*50)\n",
    "print(\"Preprocesamiento\")\n",
    "print(\"=\"*50)"
   ]
  },
  {
   "cell_type": "markdown",
   "metadata": {},
   "source": [
    "## Crear categorías de rating para clasificación"
   ]
  },
  {
   "cell_type": "code",
   "execution_count": null,
   "metadata": {},
   "outputs": [],
   "source": [
    "rating_bins = [0, 2.5, 3.5, 5]\n",
    "rating_labels = ['Bajo', 'Medio', 'Alto']\n",
    "df['rating_category'] = pd.cut(df['rating'], bins=rating_bins, labels=rating_labels)"
   ]
  },
  {
   "cell_type": "markdown",
   "metadata": {},
   "source": [
    "# Verificar valores nulos en rating_category"
   ]
  },
  {
   "cell_type": "code",
   "execution_count": null,
   "metadata": {},
   "outputs": [],
   "source": [
    "print(\"\\nnulos en rating_category:\", df['rating_category'].isnull().sum())"
   ]
  },
  {
   "cell_type": "markdown",
   "metadata": {},
   "source": [
    "# imputar los valores nulos en rating_category\n",
    "- Aqui use los valores de rating normal"
   ]
  },
  {
   "cell_type": "code",
   "execution_count": null,
   "metadata": {},
   "outputs": [],
   "source": [
    "df.loc[df['rating_category'].isnull() & (df['rating'] <= 2.5), 'rating_category'] = 'Bajo'\n",
    "df.loc[df['rating_category'].isnull() & (df['rating'] > 2.5) & (df['rating'] <= 3.5), 'rating_category'] = 'Medio'\n",
    "df.loc[df['rating_category'].isnull() & (df['rating'] > 3.5), 'rating_category'] = 'Alto'"
   ]
  },
  {
   "cell_type": "code",
   "execution_count": null,
   "metadata": {},
   "outputs": [],
   "source": [
    "print(\"Valores nulos después de imputación:\", df['rating_category'].isnull().sum())\n",
    "print(\"\\nDistribución de categorías de rating después de imputación:\")\n",
    "print(df['rating_category'].value_counts())"
   ]
  },
  {
   "cell_type": "markdown",
   "metadata": {},
   "source": [
    "# Crear características derivadas"
   ]
  },
  {
   "cell_type": "code",
   "execution_count": null,
   "metadata": {},
   "outputs": [],
   "source": [
    "df['rating_to_count_ratio'] = df['rating'] / (df['ratings_count'] + 1)  # +1 para evitar división por cero\n",
    "df['reviews_to_ratings_ratio'] = df['reviews_count'] / (df['ratings_count'] + 1)\n",
    "df['popularity_score'] = (df['ratings_count'] + df['reviews_count'] + df['added']) / 3\n",
    "df['recency_factor'] = 2025 - df['release_year']  # Cuán reciente es el juego"
   ]
  },
  {
   "cell_type": "markdown",
   "metadata": {},
   "source": [
    "# Usar las características seleccionadas"
   ]
  },
  {
   "cell_type": "code",
   "execution_count": null,
   "metadata": {},
   "outputs": [],
   "source": [
    "# Características numéricas relevantes\n",
    "selected_features = [\n",
    "    'playtime',           # Tiempo de juego promedio\n",
    "    'metacritic',         # Puntuación de críticos profesionales\n",
    "    'ratings_count',      # Número de calificaciones (popularidad)\n",
    "    'reviews_count',      # Número de reseñas\n",
    "    'added',              # Veces que el juego fue añadido\n",
    "    'suggestions_count',  # Número de sugerencias\n",
    "    'release_year',       # Año de lanzamiento\n",
    "    'rating_to_count_ratio',    # Tus características derivadas\n",
    "    'reviews_to_ratings_ratio',\n",
    "    'popularity_score',\n",
    "    'recency_factor'\n",
    "]\n",
    "\n",
    "# Características categóricas para codificar\n",
    "categorical_features = [\n",
    "    'main_genre',          # Género principal del juego\n",
    "    'metacritic_category'  # Categoría de Metacritic\n",
    "]\n"
   ]
  },
  {
   "cell_type": "code",
   "execution_count": null,
   "metadata": {},
   "outputs": [],
   "source": [
    "X_selected = df[selected_features].copy()"
   ]
  },
  {
   "cell_type": "code",
   "execution_count": null,
   "metadata": {},
   "outputs": [],
   "source": [
    "X_cat = df[categorical_features].copy()"
   ]
  },
  {
   "cell_type": "markdown",
   "metadata": {},
   "source": [
    "- trabajamos las cetegoricas"
   ]
  },
  {
   "cell_type": "code",
   "execution_count": null,
   "metadata": {},
   "outputs": [],
   "source": [
    "label_encoders = {}\n",
    "\n",
    "# Aplicar LabelEncoder a cada columna categórica\n",
    "for col in categorical_features:\n",
    "    le = LabelEncoder()\n",
    "    X_cat[col] = le.fit_transform(X_cat[col])\n",
    "    label_encoders[col] = le\n"
   ]
  },
  {
   "cell_type": "markdown",
   "metadata": {},
   "source": [
    "Combinamos las caracteristicas"
   ]
  },
  {
   "cell_type": "code",
   "execution_count": null,
   "metadata": {},
   "outputs": [],
   "source": [
    "X_combined = pd.concat([X_selected, X_cat], axis=1)"
   ]
  },
  {
   "cell_type": "code",
   "execution_count": null,
   "metadata": {},
   "outputs": [],
   "source": [
    "X_combined"
   ]
  },
  {
   "cell_type": "code",
   "execution_count": null,
   "metadata": {},
   "outputs": [],
   "source": [
    "# X_combined.to_csv('Videojuegos_ml',\n",
    "#                   index=False,              # No incluir el índice\n",
    "#           sep=',',                  # Separador (puede ser ';' u otro)\n",
    "#           decimal='.',              # Punto decimal\n",
    "#           encoding='utf-8')"
   ]
  },
  {
   "cell_type": "markdown",
   "metadata": {},
   "source": [
    "# Variable objetivo\n",
    "- 'rating_category'"
   ]
  },
  {
   "cell_type": "markdown",
   "metadata": {},
   "source": [
    "### Variable ojbetivo "
   ]
  },
  {
   "cell_type": "code",
   "execution_count": null,
   "metadata": {},
   "outputs": [],
   "source": [
    "label_encoder_target = LabelEncoder()\n",
    "y = label_encoder_target.fit_transform(df['rating_category'])"
   ]
  },
  {
   "cell_type": "markdown",
   "metadata": {},
   "source": [
    "# Entrenar un RandomForestClassifier para calcular la importancia de las características"
   ]
  },
  {
   "cell_type": "code",
   "execution_count": null,
   "metadata": {},
   "outputs": [],
   "source": [
    "rf = RandomForestClassifier(n_estimators=100, random_state=42)\n",
    "rf.fit(X_combined, y)\n",
    "\n",
    "# Obtener la importancia de las características\n",
    "important_features = pd.Series(rf.feature_importances_, index=X_combined.columns)\n",
    "important_features = important_features.sort_values(ascending=False)"
   ]
  },
  {
   "cell_type": "markdown",
   "metadata": {},
   "source": [
    "# Mostrar los resultados visualmente"
   ]
  },
  {
   "cell_type": "code",
   "execution_count": null,
   "metadata": {},
   "outputs": [],
   "source": [
    "plt.figure(figsize=(10, 5))\n",
    "important_features.plot(kind='bar')\n",
    "plt.title(\"Importancia de las Características\")\n",
    "plt.xlabel(\"Características\")\n",
    "plt.ylabel(\"Importancia\")\n",
    "plt.xticks(rotation=90)\n",
    "plt.grid(axis='y', linestyle='--', alpha=0.7)\n",
    "plt.show()"
   ]
  },
  {
   "cell_type": "markdown",
   "metadata": {},
   "source": [
    "## Ya tenemos las mas importantes "
   ]
  },
  {
   "cell_type": "code",
   "execution_count": null,
   "metadata": {},
   "outputs": [],
   "source": [
    "important_features = [\n",
    "    'rating_to_count_ratio',\n",
    "    'reviews_count',\n",
    "    'ratings_count',\n",
    "    'reviews_to_ratings_ratio',\n",
    "    'added'\n",
    "]"
   ]
  },
  {
   "cell_type": "markdown",
   "metadata": {},
   "source": [
    "# Usar solo estas características"
   ]
  },
  {
   "cell_type": "code",
   "execution_count": null,
   "metadata": {},
   "outputs": [],
   "source": [
    "X_selected = df[important_features].copy()"
   ]
  },
  {
   "cell_type": "markdown",
   "metadata": {},
   "source": [
    "# Escalar las características"
   ]
  },
  {
   "cell_type": "code",
   "execution_count": null,
   "metadata": {},
   "outputs": [],
   "source": [
    "scaler = StandardScaler()\n",
    "X = scaler.fit_transform(X_selected)\n",
    "le = LabelEncoder()\n",
    "y = le.fit_transform(df['rating_category'])"
   ]
  },
  {
   "cell_type": "markdown",
   "metadata": {},
   "source": [
    "## Dividimos el conjunto de pruebas"
   ]
  },
  {
   "cell_type": "code",
   "execution_count": null,
   "metadata": {},
   "outputs": [],
   "source": [
    "X_train, X_test, y_train, y_test = train_test_split(X, y, test_size=0.2, random_state=42, stratify=y)"
   ]
  },
  {
   "cell_type": "markdown",
   "metadata": {},
   "source": [
    "#  SELECCIÓN POR VARIANZA ACUMULADA"
   ]
  },
  {
   "cell_type": "code",
   "execution_count": null,
   "metadata": {},
   "outputs": [],
   "source": [
    "# Aplicar PCA\n",
    "pca = PCA()\n",
    "pca.fit(X_train)"
   ]
  },
  {
   "cell_type": "code",
   "execution_count": null,
   "metadata": {},
   "outputs": [],
   "source": [
    "# Calcular varianza acumulada\n",
    "var_ratio = pca.explained_variance_ratio_\n",
    "cum_var_ratio = np.cumsum(var_ratio)\n",
    "\n",
    "# Visualizar la varianza acumulada\n",
    "plt.figure(figsize=(10, 6))\n",
    "plt.plot(range(1, len(cum_var_ratio) + 1), cum_var_ratio, marker='o', linestyle='-')\n",
    "plt.xlabel('Número de Componentes')\n",
    "plt.ylabel('Varianza Acumulada')\n",
    "plt.title('Varianza Acumulada Explicada por Componentes')\n",
    "plt.grid(True)\n",
    "plt.axhline(y=0.95, color='r', linestyle='--', label='95% Varianza')\n",
    "plt.legend()\n",
    "plt.tight_layout()\n",
    "plt.show()"
   ]
  },
  {
   "cell_type": "markdown",
   "metadata": {},
   "source": [
    "# Seleccionar características que explican el 95% de la varianza"
   ]
  },
  {
   "cell_type": "code",
   "execution_count": null,
   "metadata": {},
   "outputs": [],
   "source": [
    "n_components = np.argmax(cum_var_ratio >= 0.95) + 1\n",
    "print(f\"Número de componentes para explicar el 95% de la varianza: {n_components}\")"
   ]
  },
  {
   "cell_type": "markdown",
   "metadata": {},
   "source": [
    "# Aplicar PCA con el número óptimo de componentes"
   ]
  },
  {
   "cell_type": "code",
   "execution_count": null,
   "metadata": {},
   "outputs": [],
   "source": [
    "pca_optimal = PCA(n_components=n_components)\n",
    "X_train_pca = pca_optimal.fit_transform(X_train)\n",
    "X_test_pca = pca_optimal.transform(X_test)"
   ]
  },
  {
   "cell_type": "code",
   "execution_count": null,
   "metadata": {},
   "outputs": [],
   "source": [
    "# Mostrar la forma de los nuevos conjuntos de datos\n",
    "print(f\"Forma de X_train_pca: {X_train_pca.shape}\")\n",
    "print(f\"Forma de X_test_pca: {X_test_pca.shape}\")"
   ]
  },
  {
   "cell_type": "markdown",
   "metadata": {},
   "source": [
    "## Conclusion \n",
    "\n",
    "- Después de aplicar PCA con 4 componentes, los datos ahora tienen las siguientes dimensiones:\n",
    "----\n",
    "- X_train_pca: (3014, 4)\n",
    "- X_test_pca: (754, 4)\n",
    "- Esto significa que hemos reducido la cantidad de características de 5 a 4, reteniendo el 95% de la varianza."
   ]
  },
  {
   "cell_type": "code",
   "execution_count": null,
   "metadata": {},
   "outputs": [],
   "source": [
    "# Mostrar la contribución de cada característica original a los componentes principales\n",
    "if n_components <= 5:  # Solo mostrar si tenemos pocos componentes\n",
    "    components_df = pd.DataFrame(\n",
    "        pca_optimal.components_,\n",
    "        columns=important_features,\n",
    "        index=[f'PC{i+1}' for i in range(n_components)]\n",
    "    )\n",
    "    print(\"\\nContribución de cada característica a los componentes principales:\")\n",
    "    print(components_df)"
   ]
  },
  {
   "cell_type": "markdown",
   "metadata": {},
   "source": [
    "## Resumen del Gráfico de Varianza Acumulada\n",
    "\n",
    "- El gráfico muestra la varianza explicada por cada característica seleccionada y su acumulado.\n",
    "- Algunas características contribuyen más que otras a la variabilidad total de los datos.\n",
    "- La línea roja indica la varianza acumulada, ayudando a visualizar cuántas características son necesarias para explicar la mayor parte de la información.\n",
    "- Se marca un umbral del **95% de varianza explicada**, útil para evaluar si se puede reducir la dimensionalidad sin perder información significativa.\n",
    "- Si con menos características se alcanza el umbral del 95%, se puede simplificar el modelo, mejorando la eficiencia y evitando el sobreajuste.\n",
    "\n",
    "- Aquí tienes la contribución de cada característica original a los 4 componentes principales. 🔍 Esto te ayuda a entender qué características originales influyen más en cada componente principal tras aplicar PCA.\n",
    "\n",
    "En conclusión, este análisis confirma que las características seleccionadas son relevantes y permite identificar si algunas pueden ser eliminadas sin afectar significativamente el rendimiento del modelo."
   ]
  },
  {
   "cell_type": "markdown",
   "metadata": {},
   "source": [
    "# Clustering"
   ]
  },
  {
   "cell_type": "markdown",
   "metadata": {},
   "source": [
    "### Determinar el número óptimo de clusters usando el método del codo y silhouette score"
   ]
  },
  {
   "cell_type": "code",
   "execution_count": null,
   "metadata": {},
   "outputs": [],
   "source": [
    "print(\"\\n===  MÉTODO DEL CODO Y SILUETA ===\")\n",
    "# Calcular inercia y puntuación de silueta para diferentes valores de k\n",
    "inertias = []\n",
    "silhouette_scores = []\n",
    "k_range = range(2, 10)"
   ]
  },
  {
   "cell_type": "code",
   "execution_count": null,
   "metadata": {},
   "outputs": [],
   "source": [
    "for k in k_range:\n",
    "    # Entrenar K-means\n",
    "    kmeans = KMeans(n_clusters=k, random_state=42, n_init=10)\n",
    "    kmeans.fit(X_train)\n",
    "\n",
    "    # Guardar inercia\n",
    "    inertias.append(kmeans.inertia_)\n",
    "\n",
    "    # Calcular silhouette score\n",
    "    if k > 1:  # Silhouette score requiere al menos 2 clusters\n",
    "        labels = kmeans.predict(X_train)\n",
    "        silhouette_scores.append(silhouette_score(X_train, labels))"
   ]
  },
  {
   "cell_type": "markdown",
   "metadata": {},
   "source": [
    "# Visualizar el método del codo y silueta"
   ]
  },
  {
   "cell_type": "code",
   "execution_count": null,
   "metadata": {},
   "outputs": [],
   "source": [
    "plt.figure(figsize=(12, 5))\n",
    "plt.subplot(1, 2, 1)\n",
    "plt.plot(k_range, inertias, marker='o')\n",
    "plt.xlabel('Número de clusters (k)')\n",
    "plt.ylabel('Inercia')\n",
    "plt.title('Método del Codo')\n",
    "plt.grid(True)"
   ]
  },
  {
   "cell_type": "markdown",
   "metadata": {},
   "source": [
    "# Interpretación:\n",
    "1. El gráfico muestra cómo la inercia (distorsión) disminuye a medida que aumenta el número de clusters\n",
    "2. El \"codo\" de la curva representa el punto óptimo donde añadir más clusters no mejora significativamente el modelo\n",
    "3. Este punto de inflexión sugiere el número ideal de clusters para el conjunto de datos\n",
    "4. Después del codo, la reducción en la inercia es menos pronunciada, indicando rendimientos decrecientes\n",
    "- En resumen, este gráfico es fundamental para determinar el número óptimo de clusters en un análisis de K-means, buscando el equilibrio entre la complejidad del modelo y su capacidad explicativa."
   ]
  },
  {
   "cell_type": "code",
   "execution_count": null,
   "metadata": {},
   "outputs": [],
   "source": [
    "# Visualizar silhouette scores\n",
    "plt.subplot(1, 2, 2)\n",
    "plt.plot(list(k_range), silhouette_scores, marker='o')  # Corregido aquí\n",
    "plt.xlabel('Número de clusters (k)')\n",
    "plt.ylabel('Silhouette Score')\n",
    "plt.title('Silhouette Score por Número de Clusters')\n",
    "plt.grid(True)\n",
    "plt.tight_layout()\n",
    "plt.show()"
   ]
  },
  {
   "cell_type": "markdown",
   "metadata": {},
   "source": [
    "# Interpretación:\n",
    "1. El Silhouette Score mide qué tan similar es un objeto a su propio cluster en comparación con otros clusters\n",
    "- Valores más cercanos a 1 indican:\n",
    "- Mejor definición de clusters\n",
    "- Mayor separación entre clusters\n",
    "- Mejor cohesión dentro de cada cluster\n",
    "2. Valores cercanos a 0 indican:\n",
    "- Solapamiento entre clusters\n",
    "- Clusters menos definidos\n",
    "3. Valores negativos sugieren:\n",
    "- Asignaciones incorrectas de puntos a clusters\n",
    "\n",
    "#### En resumen, el número óptimo de clusters se puede identificar donde el Silhouette Score alcanza su valor máximo, indicando la mejor separación y cohesión de los clusters. Este análisis, junto con el método del codo, proporciona una base sólida para seleccionar el número apropiado de clusters en el análisis."
   ]
  },
  {
   "cell_type": "markdown",
   "metadata": {},
   "source": [
    "# Determinar el número óptimo de clusters"
   ]
  },
  {
   "cell_type": "code",
   "execution_count": null,
   "metadata": {},
   "outputs": [],
   "source": [
    "optimal_k = k_range[silhouette_scores.index(max(silhouette_scores))]\n",
    "print(f\"Número óptimo de clusters según silhouette score: {optimal_k}\")"
   ]
  },
  {
   "cell_type": "code",
   "execution_count": null,
   "metadata": {},
   "outputs": [],
   "source": [
    "# Aplicar K-means con el número óptimo de clusters\n",
    "kmeans_optimal = KMeans(n_clusters=optimal_k, random_state=42, n_init=10)\n",
    "cluster_labels = kmeans_optimal.fit_predict(X_train)"
   ]
  },
  {
   "cell_type": "code",
   "execution_count": null,
   "metadata": {},
   "outputs": [],
   "source": [
    "# Añadir etiquetas de cluster a los datos de entrenamiento\n",
    "X_train_df = pd.DataFrame(X_train, columns=important_features)\n",
    "X_train_df['cluster'] = cluster_labels\n",
    "X_train_df['rating_category'] = le.inverse_transform(y_train)"
   ]
  },
  {
   "cell_type": "code",
   "execution_count": null,
   "metadata": {},
   "outputs": [],
   "source": [
    "# Visualizar la distribución de categorías de rating por cluster\n",
    "plt.figure(figsize=(12, 6))\n",
    "for i in range(optimal_k):\n",
    "    cluster_data = X_train_df[X_train_df['cluster'] == i]\n",
    "    plt.subplot(1, optimal_k, i+1)\n",
    "    sns.countplot(x='rating_category', data=cluster_data)\n",
    "    plt.title(f'Cluster {i}')\n",
    "    plt.xticks(rotation=45)\n",
    "plt.tight_layout()\n",
    "plt.show()"
   ]
  },
  {
   "cell_type": "markdown",
   "metadata": {},
   "source": [
    "# Interpretación:\n",
    "- Cada subgráfico representa un cluster diferente\n",
    "- Las barras muestran la frecuencia de cada categoría de rating dentro del cluster\n",
    "# Permite identificar:\n",
    "- Patrones dominantes en cada cluster\n",
    "- Diferencias en la distribución de ratings entre clusters\n",
    "- Posibles sesgos o preferencias en cada grupo\n",
    "# Utilidad del análisis:\n",
    "- Ayuda a caracterizar cada cluster según sus patrones de rating\n",
    "- Permite identificar segmentos de usuarios con preferencias similares\n",
    "- Facilita la comprensión de comportamientos de calificación en diferentes grupos\n",
    "- Puede usarse para estrategias de recomendación personalizadas\n",
    "\n",
    "### En resumen, este gráfico es fundamental para entender cómo se distribuyen las preferencias de rating en cada cluster, lo que puede ser útil para la toma de decisiones en sistemas de recomendación o análisis de comportamiento de usuarios."
   ]
  },
  {
   "cell_type": "code",
   "execution_count": null,
   "metadata": {},
   "outputs": [],
   "source": [
    "# Visualizar los clusters en 2D (usando PCA)\n",
    "plt.figure(figsize=(10, 8))\n",
    "# Usar PCA para visualización en 2D\n",
    "pca_viz = PCA(n_components=2)\n",
    "X_train_pca_viz = pca_viz.fit_transform(X_train)\n",
    "\n",
    "plt.scatter(X_train_pca_viz[:, 0], X_train_pca_viz[:, 1], c=cluster_labels, cmap='viridis', alpha=0.7)\n",
    "plt.title(f'Visualización de {optimal_k} Clusters (PCA)')\n",
    "plt.xlabel('Componente Principal 1')\n",
    "plt.ylabel('Componente Principal 2')\n",
    "plt.colorbar(label='Cluster')\n",
    "plt.grid(True)\n",
    "plt.show()"
   ]
  },
  {
   "cell_type": "markdown",
   "metadata": {},
   "source": [
    "# Interpretación:\n",
    "1. La distribución espacial de los puntos muestra:\n",
    "- Separación entre clusters\n",
    "- Densidad de cada cluster\n",
    "- Posibles solapamientos entre grupos\n",
    "2. Los colores diferentes ayudan a identificar:\n",
    "- Fronteras entre clusters\n",
    "- Patrones de agrupamiento\n",
    "- Posibles outliers o puntos atípicos\n",
    "3. Implicaciones del análisis:\n",
    "- Permite evaluar visualmente la calidad de la clusterización\n",
    "- Ayuda a identificar si los clusters están bien definidos o difusos\n",
    "- Muestra la efectividad de la reducción dimensional mediante PCA\n",
    "- Facilita la detección de patrones o estructuras en los datos\n",
    "\n",
    "#### En resumen, este gráfico proporciona una representación visual intuitiva de cómo se agrupan los datos en el espacio bidimensional, lo que es crucial para validar la efectividad del algoritmo de clustering y comprender la estructura subyacente de los datos."
   ]
  },
  {
   "cell_type": "markdown",
   "metadata": {},
   "source": [
    "# Analizar la relación entre clusters y categorías de rating"
   ]
  },
  {
   "cell_type": "code",
   "execution_count": null,
   "metadata": {},
   "outputs": [],
   "source": [
    "cluster_rating_cross = pd.crosstab(X_train_df['cluster'], X_train_df['rating_category'], normalize='index')\n",
    "print(\"\\nDistribución de categorías de rating por cluster (%):\")\n",
    "print(cluster_rating_cross * 100)"
   ]
  },
  {
   "cell_type": "markdown",
   "metadata": {},
   "source": [
    "Aquí tienes la distribución de categorías de rating por cluster en porcentaje. 📊\n",
    "\n",
    "Clusters 0 y 3 contienen exclusivamente juegos con rating Bajo (100%).\n",
    "Clusters 1 y 2 tienen una mezcla de ratings, pero ambos están dominados por juegos Medio (~53-56%).\n",
    "El Cluster 2 tiene una proporción ligeramente mayor de juegos con rating Alto (33.6%) en comparación con el Cluster 1 (30.6%).\n",
    "Este análisis sugiere que los clusters capturan diferencias en la calidad de los juegos según el rating de los usuarios. 🎯"
   ]
  },
  {
   "cell_type": "markdown",
   "metadata": {},
   "source": [
    "## Conclusión del Análisis de Clustering\n",
    "\n",
    "### 1. **Segmentación de Juegos por Rating**\n",
    "El análisis de clustering permitió identificar **4 grupos distintos** dentro de los juegos analizados. Se observó que dos clusters (**0 y 3**) contienen exclusivamente juegos con **ratings bajos (100%)**, mientras que los otros dos clusters (**1 y 2**) presentan una mezcla de categorías, aunque dominadas por juegos con **ratings medios**.\n",
    "\n",
    "### 2. **Diferencias Clave entre los Clusters**\n",
    "- **Clusters 0 y 3**: Agrupan juegos con calificaciones bajas. Esto sugiere que estos juegos pueden compartir características comunes, como una menor cantidad de reseñas y menor popularidad.\n",
    "- **Clusters 1 y 2**: Representan juegos con mayor diversidad en calificaciones, incluyendo títulos con ratings medios y altos. Estos grupos podrían reflejar juegos con más interacción de la comunidad y mejor recepción.\n",
    "\n",
    "### 3. **Relevancia para la Industria de Videojuegos**\n",
    "Este análisis permite segmentar juegos en función de su recepción por parte de los jugadores. Algunas aplicaciones clave de estos hallazgos incluyen:\n",
    "- **Estrategias de marketing personalizadas**: Promocionar los juegos de los clusters 1 y 2 a audiencias más amplias y evaluar mejoras para los clusters 0 y 3.\n",
    "- **Optimización de desarrollo**: Identificar factores que influyen en la baja recepción de ciertos juegos y mejorar futuras entregas.\n",
    "- **Recomendaciones personalizadas**: Sugerir juegos similares basados en los clusters, mejorando sistemas de recomendación.\n",
    "\n",
    "### 4. **Posibles Mejoras**\n",
    "Para mejorar el análisis, se podría:\n",
    "- Incorporar **más características** (ej. mecánicas de juego, tipo de multijugador).\n",
    "- Aplicar **otros métodos de clustering** como DBSCAN para detectar mejor estructuras no lineales.\n",
    "- Comparar con un modelo de clasificación supervisado para evaluar si los clusters reflejan tendencias reales en las calificaciones.\n",
    "\n",
    "---\n",
    "Este estudio proporciona una visión valiosa sobre la segmentación de videojuegos basada en sus características y su recepción por los usuarios. 🚀\n"
   ]
  },
  {
   "cell_type": "markdown",
   "metadata": {},
   "source": [
    "Conclusiones"
   ]
  },
  {
   "cell_type": "markdown",
   "metadata": {},
   "source": [
    "## DIVISIÓN EN CONJUNTOS DE ENTRENAMIENTO Y PRUEBA"
   ]
  },
  {
   "cell_type": "code",
   "execution_count": null,
   "metadata": {},
   "outputs": [],
   "source": [
    "X_train, X_test, y_train, y_test = train_test_split(X_selected, y, test_size=0.2, random_state=42) \n",
    "X_train, X_val, y_train, y_val = train_test_split(X_train, y_train, test_size=0.2, random_state=42) \n",
    "\n",
    "print(f\"Tamaño del conjunto de entrenamiento: {X_train.shape}\")\n",
    "print(f\"Tamaño del conjunto de prueba: {X_test.shape}\")\n",
    "print(f\"Tamaño del conjunto de validación: {X_val.shape}\")"
   ]
  },
  {
   "cell_type": "markdown",
   "metadata": {},
   "source": [
    "## Base line"
   ]
  },
  {
   "cell_type": "code",
   "execution_count": null,
   "metadata": {},
   "outputs": [],
   "source": [
    "from sklearn.dummy import DummyClassifier\n",
    "from sklearn.linear_model import LogisticRegression\n",
    "from sklearn.tree import DecisionTreeClassifier\n",
    "from sklearn.ensemble import RandomForestClassifier\n",
    "from sklearn.metrics import accuracy_score, classification_report, confusion_matrix\n",
    "from sklearn.neighbors import KNeighborsClassifier\n",
    "from sklearn.svm import SVC\n",
    "from xgboost import XGBClassifier\n",
    "from lightgbm import LGBMClassifier\n",
    "from sklearn.ensemble import GradientBoostingClassifier"
   ]
  },
  {
   "cell_type": "code",
   "execution_count": null,
   "metadata": {},
   "outputs": [],
   "source": [
    "# 1. Modelo más simple: DummyClassifier (estrategia: más frecuente)\n",
    "dummy_clf = DummyClassifier(strategy='most_frequent', random_state=42)\n",
    "dummy_clf.fit(X_train, y_train)\n",
    "dummy_pred = dummy_clf.predict(X_test)\n",
    "\n",
    "# 2. Regresión Logística\n",
    "lr_clf = LogisticRegression(max_iter=1000, random_state=42)\n",
    "lr_clf.fit(X_train, y_train)\n",
    "lr_pred = lr_clf.predict(X_test)\n",
    "\n",
    "# 3. Árbol de Decisión simple\n",
    "dt_clf = DecisionTreeClassifier(max_depth=5, random_state=42)\n",
    "dt_clf.fit(X_train, y_train)\n",
    "dt_pred = dt_clf.predict(X_test)\n",
    "\n",
    "# 4. Random Forest simple\n",
    "rf_clf = RandomForestClassifier(n_estimators=100, random_state=42)\n",
    "rf_clf.fit(X_train, y_train)\n",
    "rf_pred = rf_clf.predict(X_test)\n",
    "\n",
    "# 5. K-Nearest Neighbors (KNN)\n",
    "knn_clf = KNeighborsClassifier(n_neighbors=5)\n",
    "knn_clf.fit(X_train, y_train)\n",
    "knn_pred = knn_clf.predict(X_test)\n",
    "\n",
    "# 6.Support Vector Machine (SVM) \n",
    "svm_clf = SVC(kernel='rbf', class_weight='balanced', random_state=42)\n",
    "svm_clf.fit(X_train, y_train)\n",
    "svm_pred = svm_clf.predict(X_test)\n",
    "\n",
    "# 7. Gradient Boosting (XGBoost)\n",
    "xgb_clf = XGBClassifier(objective='multi:softmax', num_class=3, random_state=42)\n",
    "xgb_clf.fit(X_train, y_train)\n",
    "xgb_pred = xgb_clf.predict(X_test)\n",
    "\n",
    "# 8. LightGBM\n",
    "lgbm_clf = LGBMClassifier(class_weight='balanced', random_state=42)\n",
    "lgbm_clf.fit(X_train, y_train)\n",
    "lgbm_pred = lgbm_clf.predict(X_test)\n",
    "\n",
    "#9. Gradient boosting\n",
    "gb_clf = GradientBoostingClassifier(n_estimators=100, learning_rate=0.1, random_state=42)\n",
    "gb_clf.fit(X_train, y_train)\n",
    "gb_pred = gb_clf.predict(X_test)"
   ]
  },
  {
   "cell_type": "code",
   "execution_count": null,
   "metadata": {},
   "outputs": [],
   "source": [
    "from sklearn.metrics import roc_auc_score, precision_recall_curve"
   ]
  },
  {
   "cell_type": "code",
   "execution_count": null,
   "metadata": {},
   "outputs": [],
   "source": [
    "# Evaluar y comparar modelos\n",
    "models = {\n",
    "    'Dummy (más frecuente)': dummy_pred,\n",
    "    'Regresión Logística': lr_pred,\n",
    "    'Árbol de Decisión': dt_pred,\n",
    "    'Random Forest': rf_pred,\n",
    "    'KNN': knn_pred,\n",
    "    'SVM': svm_pred,\n",
    "    'XGBoost': xgb_pred,\n",
    "    'LightGBM': lgbm_pred,\n",
    "    'Gradient': gb_pred\n",
    "}"
   ]
  },
  {
   "cell_type": "code",
   "execution_count": null,
   "metadata": {},
   "outputs": [],
   "source": [
    "# Convertir etiquetas numéricas a categorías originales para mejor interpretación\n",
    "rating_categories = le.classes_\n",
    "\n",
    "print(\"Comparación de modelos baseline:\\n\")\n",
    "for model_name, y_pred in models.items():\n",
    "    accuracy = accuracy_score(y_test, y_pred)\n",
    "    print(f\"\\n{model_name}:\")\n",
    "    print(f\"Accuracy: {accuracy:.4f}\")\n",
    "    print(\"\\nInforme de clasificación:\")\n",
    "    print(classification_report(y_test, y_pred, target_names=rating_categories))"
   ]
  },
  {
   "cell_type": "code",
   "execution_count": null,
   "metadata": {},
   "outputs": [],
   "source": [
    "# Función para evaluar y mostrar métricas detalladas\n",
    "def evaluate_model(y_true, y_pred, model_name):\n",
    "    accuracy = accuracy_score(y_true, y_pred)\n",
    "    report = classification_report(y_true, y_pred)\n",
    "    conf_matrix = confusion_matrix(y_true, y_pred)\n",
    "\n",
    "    print(f\"\\n{model_name}:\")\n",
    "    print(f\"Accuracy: {accuracy:.4f}\")\n",
    "    print(\"\\nInforme de clasificación:\")\n",
    "    print(report)\n",
    "    print(\"Matriz de confusión:\")\n",
    "    print(conf_matrix)\n",
    "    return accuracy\n",
    "\n",
    "# Evaluar cada modelo y almacenar accuracies\n",
    "accuracies = {}\n",
    "for model_name, predictions in models.items():\n",
    "    acc = evaluate_model(y_test, predictions, model_name)\n",
    "    accuracies[model_name] = acc\n",
    "\n",
    "# Crear un DataFrame con los resultados para mejor visualización\n",
    "results_df = pd.DataFrame({\n",
    "    'Modelo': accuracies.keys(),\n",
    "    'Accuracy': accuracies.values()\n",
    "}).sort_values('Accuracy', ascending=False)\n",
    "\n",
    "print(\"\\nResumen de Accuracies:\")\n",
    "print(results_df)\n",
    "\n",
    "# Visualizar resultados\n",
    "plt.figure(figsize=(12, 6))\n",
    "plt.bar(results_df['Modelo'], results_df['Accuracy'])\n",
    "plt.xticks(rotation=45, ha='right')\n",
    "plt.title('Comparación de Accuracy entre Modelos')\n",
    "plt.ylabel('Accuracy')\n",
    "plt.tight_layout()\n",
    "plt.show()"
   ]
  },
  {
   "cell_type": "code",
   "execution_count": null,
   "metadata": {},
   "outputs": [],
   "source": [
    "# Comparación de métricas adicionales\n",
    "from sklearn.metrics import roc_auc_score, precision_recall_curve, recall_score, precision_score"
   ]
  },
  {
   "cell_type": "code",
   "execution_count": null,
   "metadata": {},
   "outputs": [],
   "source": [
    "def get_detailed_metrics(y_true, y_pred, model_name):\n",
    "    precision = precision_score(y_true, y_pred, average='weighted')\n",
    "    recall = recall_score(y_true, y_pred, average='weighted')\n",
    "    f1 = f1_score(y_true, y_pred, average='weighted')\n",
    "\n",
    "    return {\n",
    "        'Modelo': model_name,\n",
    "        'Precision': precision,\n",
    "        'Recall': recall,\n",
    "        'F1-Score': f1\n",
    "    }\n",
    "\n",
    "detailed_metrics = []\n",
    "for model_name, predictions in models.items():\n",
    "    metrics = get_detailed_metrics(y_test, predictions, model_name)\n",
    "    detailed_metrics.append(metrics)\n",
    "\n",
    "detailed_df = pd.DataFrame(detailed_metrics)\n",
    "print(\"\\nMétricas detalladas por modelo:\")\n",
    "print(detailed_df)"
   ]
  },
  {
   "cell_type": "code",
   "execution_count": null,
   "metadata": {},
   "outputs": [],
   "source": [
    "def plot_confusion_matrix(y_true, y_pred, model_name):\n",
    "    cm = confusion_matrix(y_true, y_pred)\n",
    "    plt.figure(figsize=(8, 6))\n",
    "    sns.heatmap(cm, annot=True, fmt='d', cmap='Blues',\n",
    "                xticklabels=['Alto', 'Bajo', 'Medio'],\n",
    "                yticklabels=['Alto', 'Bajo', 'Medio'])\n",
    "    plt.title(f'Matriz de Confusión - {model_name}')\n",
    "    plt.ylabel('Valor Real')\n",
    "    plt.xlabel('Valor Predicho')\n",
    "    plt.tight_layout()\n",
    "    plt.show()\n",
    "\n",
    "# Evaluar y comparar modelos con matrices de confusión\n",
    "models = {\n",
    "    'Dummy (más frecuente)': dummy_pred,\n",
    "    'Regresión Logística': lr_pred,\n",
    "    'Árbol de Decisión': dt_pred,\n",
    "    'Random Forest': rf_pred,\n",
    "    'KNN': knn_pred,\n",
    "    'SVM': svm_pred,\n",
    "    'XGBoost': xgb_pred,\n",
    "    'LightGBM': lgbm_pred\n",
    "}\n",
    "\n",
    "for model_name, predictions in models.items():\n",
    "    print(f\"\\n{model_name}:\")\n",
    "    print(f\"Accuracy: {accuracy_score(y_test, predictions):.4f}\")\n",
    "    print(\"\\nInforme de clasificación:\")\n",
    "    print(classification_report(y_test, predictions))\n",
    "    print(\"\\nMatriz de Confusión:\")\n",
    "    plot_confusion_matrix(y_test, predictions, model_name)"
   ]
  },
  {
   "cell_type": "markdown",
   "metadata": {},
   "source": [
    "# Interpretación:\n",
    "1. La diagonal principal muestra:\n",
    "- Predicciones correctas (verdaderos positivos)\n",
    "- Mayor intensidad de color indica mejor rendimiento\n",
    "2. Fuera de la diagonal se encuentran:\n",
    "- Errores de clasificación\n",
    "- Falsos positivos y falsos negativos\n",
    "3. Las etiquetas muestran:\n",
    "- Filas: Categorías reales\n",
    "- Columnas: Categorías predichas\n",
    "4. Métricas derivadas:\n",
    "- Precisión: Proporción de predicciones correctas\n",
    "- Recall: Capacidad del modelo para identificar casos positivos\n",
    "- Errores de clasificación: Identificación de confusiones comunes\n",
    "- Sesgo del modelo: Tendencias en las predicciones incorrectas\n",
    "\n",
    "##### En resumen, la matriz de confusión es una herramienta fundamental para evaluar el rendimiento del modelo de clasificación, permitiendo identificar dónde el modelo tiene mayor éxito y dónde comete más errores, lo que es crucial para la optimización y mejora del modelo."
   ]
  },
  {
   "cell_type": "markdown",
   "metadata": {},
   "source": [
    "# Comparar importancia de características para Random Forest"
   ]
  },
  {
   "cell_type": "code",
   "execution_count": null,
   "metadata": {},
   "outputs": [],
   "source": [
    "if hasattr(rf_clf, 'feature_importances_'):\n",
    "    feature_importance = pd.DataFrame({\n",
    "        'Feature': important_features,\n",
    "        'Importance': rf_clf.feature_importances_\n",
    "    }).sort_values('Importance', ascending=False)\n",
    "\n",
    "    plt.figure(figsize=(10, 6))\n",
    "    sns.barplot(x='Importance', y='Feature', data=feature_importance)\n",
    "    plt.title('Importancia de Características - Random Forest')\n",
    "    plt.tight_layout()\n",
    "    plt.show()"
   ]
  },
  {
   "cell_type": "markdown",
   "metadata": {},
   "source": [
    "## Optimización de Hiperparámetros"
   ]
  },
  {
   "cell_type": "code",
   "execution_count": null,
   "metadata": {},
   "outputs": [],
   "source": [
    "from sklearn.model_selection import RandomizedSearchCV"
   ]
  },
  {
   "cell_type": "code",
   "execution_count": null,
   "metadata": {},
   "outputs": [],
   "source": [
    "# Definir el espacio de búsqueda de hiperparámetros\n",
    "param_grid = {\n",
    "    'n_estimators': [100, 200, 300],\n",
    "    'learning_rate': [0.01, 0.1, 0.3],\n",
    "    'max_depth': [3, 5, 7, -1],  # -1 significa sin límite\n",
    "    'num_leaves': [31, 50, 100],\n",
    "    'min_child_samples': [20, 50, 100],\n",
    "    'subsample': [0.8, 0.9, 1.0],\n",
    "    'colsample_bytree': [0.8, 0.9, 1.0]\n",
    "}"
   ]
  },
  {
   "cell_type": "code",
   "execution_count": null,
   "metadata": {},
   "outputs": [],
   "source": [
    "# Crear el modelo base\n",
    "base_model = LGBMClassifier(random_state=42)"
   ]
  },
  {
   "cell_type": "code",
   "execution_count": null,
   "metadata": {},
   "outputs": [],
   "source": [
    "# Configurar RandomizedSearchCV\n",
    "random_search = RandomizedSearchCV(\n",
    "    estimator=base_model,\n",
    "    param_distributions=param_grid,\n",
    "    n_iter=10,  # número de combinaciones a probar\n",
    "    cv=3,       # reducir el número de pliegues de validación cruzada\n",
    "    scoring='accuracy',\n",
    "    n_jobs=-1,  # usar todos los núcleos disponibles\n",
    "    verbose=1,\n",
    "    random_state=42\n",
    ")"
   ]
  },
  {
   "cell_type": "code",
   "execution_count": null,
   "metadata": {},
   "outputs": [],
   "source": [
    "# Ajustar el modelo\n",
    "random_search.fit(X_train, y_train)"
   ]
  },
  {
   "cell_type": "code",
   "execution_count": null,
   "metadata": {},
   "outputs": [],
   "source": [
    "# Mostrar los mejores parámetros y el mejor score\n",
    "print(\"\\nMejores parámetros encontrados:\")\n",
    "print(random_search.best_params_)\n",
    "print(f\"\\nMejor score de validación cruzada: {random_search.best_score_:.4f}\")"
   ]
  },
  {
   "cell_type": "code",
   "execution_count": null,
   "metadata": {},
   "outputs": [],
   "source": [
    "# Evaluar el mejor modelo en el conjunto de prueba\n",
    "best_model = random_search.best_estimator_\n",
    "y_pred = best_model.predict(X_test)\n",
    "accuracy = accuracy_score(y_test, y_pred)\n",
    "print(f\"\\nAccuracy en el conjunto de prueba: {accuracy:.4f}\")"
   ]
  },
  {
   "cell_type": "code",
   "execution_count": null,
   "metadata": {},
   "outputs": [],
   "source": [
    "# Mostrar informe de clasificación\n",
    "print(\"\\nInforme de clasificación:\")\n",
    "print(classification_report(y_test, y_pred))"
   ]
  },
  {
   "cell_type": "markdown",
   "metadata": {},
   "source": [
    "# Inferencia "
   ]
  },
  {
   "cell_type": "code",
   "execution_count": null,
   "metadata": {},
   "outputs": [],
   "source": [
    "# Calcular métricas de clasificación\n",
    "accuracy = accuracy_score(y_test, y_pred)\n",
    "f1 = f1_score(y_test, y_pred, average='weighted')\n",
    "conf_matrix = confusion_matrix(y_test, y_pred)\n",
    "\n",
    "# Para simular métricas de regresión (como en tu ejemplo), vamos a usar las probabilidades\n",
    "# Convertir las etiquetas codificadas a valores numéricos para simular una regresión\n",
    "# Bajo (0) -> 1, Medio (1) -> 2, Alto (2) -> 3\n",
    "y_test_numeric = y_test + 1\n",
    "y_pred_numeric = y_pred + 1"
   ]
  },
  {
   "cell_type": "code",
   "execution_count": null,
   "metadata": {},
   "outputs": [],
   "source": [
    "# Imprimir resultados\n",
    "print(\"Métricas de Clasificación:\")\n",
    "print(f\"Accuracy: {accuracy:.4f}\")\n",
    "print(f\"F1-Score ponderado: {f1:.4f}\")\n",
    "print(\"\\nMatriz de Confusión:\")\n",
    "print(conf_matrix)\n",
    "print(\"\\nInforme de Clasificación Detallado:\")\n",
    "print(classification_report(y_test, y_pred))"
   ]
  },
  {
   "cell_type": "code",
   "execution_count": null,
   "metadata": {},
   "outputs": [],
   "source": [
    "# Calcular métricas de regresión\n",
    "rmse = np.sqrt(mean_squared_error(y_test_numeric, y_pred_numeric))\n",
    "mae = mean_absolute_error(y_test_numeric, y_pred_numeric)\n",
    "r2 = r2_score(y_test_numeric, y_pred_numeric)\n",
    "\n",
    "print(\"Métricas finales del modelo LightGBM:\")\n",
    "print(f\"Accuracy: {accuracy:.4f}\")\n",
    "print(f\"F1 Score: {f1:.4f}\")\n",
    "print(f\"RMSE: {rmse:.4f}\")\n",
    "print(f\"MAE: {mae:.4f}\")\n",
    "print(f\"R²: {r2:.4f}\")"
   ]
  },
  {
   "cell_type": "code",
   "execution_count": null,
   "metadata": {},
   "outputs": [],
   "source": [
    "# Visualización de la matriz de confusión\n",
    "plt.figure(figsize=(8, 6))\n",
    "sns.heatmap(conf_matrix, annot=True, fmt='d', cmap='Blues',\n",
    "            xticklabels=['Bajo', 'Medio', 'Alto'],\n",
    "            yticklabels=['Bajo', 'Medio', 'Alto'])\n",
    "plt.title('Matriz de Confusión')\n",
    "plt.ylabel('Valor Real')\n",
    "plt.xlabel('Valor Predicho')\n",
    "plt.tight_layout()\n",
    "plt.show()"
   ]
  },
  {
   "cell_type": "code",
   "execution_count": null,
   "metadata": {},
   "outputs": [],
   "source": [
    "# 1. Visualizar predicciones vs valores reales (adaptado para clasificación)\n",
    "plt.figure(figsize=(10, 8))\n",
    "\n",
    "# Añadir un poco de ruido para visualizar mejor los puntos\n",
    "jitter = np.random.normal(0, 0.1, size=len(y_test_numeric))\n",
    "y_test_jitter = y_test_numeric + jitter\n",
    "y_pred_jitter = y_pred_numeric + jitter\n",
    "\n",
    "# Graficar puntos\n",
    "plt.scatter(y_test_jitter, y_pred_jitter, alpha=0.7)\n",
    "\n",
    "# Línea de referencia (predicción perfecta)\n",
    "plt.plot([0.5, 3.5], [0.5, 3.5], 'r--')\n",
    "\n",
    "# Etiquetas y título\n",
    "plt.xlabel('Categoría Real (1=Bajo, 2=Medio, 3=Alto)')\n",
    "plt.ylabel('Categoría Predicha (1=Bajo, 2=Medio, 3=Alto)')\n",
    "plt.title('Comparación de Valores Reales vs Predichos')\n",
    "\n",
    "# Ajustar ejes\n",
    "plt.xlim(0.5, 3.5)\n",
    "plt.ylim(0.5, 3.5)\n",
    "\n",
    "# Añadir grid\n",
    "plt.grid(True, linestyle='--', alpha=0.7)"
   ]
  },
  {
   "cell_type": "markdown",
   "metadata": {},
   "source": [
    "# Análisis de la Visualización\n",
    "1. Distribución de Predicciones:\n",
    "- Los puntos que caen sobre o cerca de la línea roja punteada (línea de referencia) representan predicciones correctas\n",
    "- La dispersión de los puntos alrededor de la línea de referencia indica el grado de error en las predicciones\n",
    "- El jitter añadido (ruido aleatorio) ayuda a visualizar mejor la densidad de puntos en cada categoría\n",
    "2. Patrones de Clasificación:\n",
    "- Se observa una concentración de puntos en las tres categorías principales (1=Bajo, 2=Medio, 3=Alto)\n",
    "Las predicciones incorrectas se visualizan como puntos que se alejan de la línea diagonal\n",
    "- Los errores más graves (predecir \"Alto\" cuando es \"Bajo\" o viceversa) serían puntos en las esquinas opuestas\n",
    "3. Rendimiento del Modelo:\n",
    "- La mayoría de los puntos parece agruparse cerca de la línea diagonal, lo que sugiere un rendimiento razonable del modelo\n",
    "- Hay algunos errores de clasificación, pero la mayoría son entre categorías adyacentes (por ejemplo, confundir Bajo con Medio o Medio con Alto)\n",
    "- Los errores más extremos (confundir Bajo con Alto) parecen ser menos frecuentes\n",
    "# Conclusión General\n",
    "\n",
    "- El modelo muestra un rendimiento satisfactorio en la clasificación de las tres categorías, con la mayoría de las predicciones cercanas a los valores reales. Los errores tienden a ocurrir principalmente entre categorías adyacentes, lo cual es preferible a errores entre categorías extremas. Esta visualización sugiere que el modelo es relativamente confiable para la tarea de clasificación, aunque hay espacio para mejoras, especialmente en la diferenciación entre categorías adyacentes."
   ]
  },
  {
   "cell_type": "code",
   "execution_count": null,
   "metadata": {},
   "outputs": [],
   "source": [
    "# Añadir un heatmap de la matriz de confusión\n",
    "plt.figure(figsize=(8, 6))\n",
    "conf_matrix_norm = confusion_matrix(y_test, y_pred, normalize='true')\n",
    "sns.heatmap(conf_matrix_norm,\n",
    "            annot=True,\n",
    "            fmt='.2%',\n",
    "            cmap='Blues',\n",
    "            xticklabels=['Bajo', 'Medio', 'Alto'],\n",
    "            yticklabels=['Bajo', 'Medio', 'Alto'])\n",
    "plt.title('Matriz de Confusión Normalizada')\n",
    "plt.xlabel('Predicción')\n",
    "plt.ylabel('Valor Real')\n",
    "plt.tight_layout()\n",
    "plt.show()"
   ]
  },
  {
   "cell_type": "code",
   "execution_count": 108,
   "metadata": {},
   "outputs": [
    {
     "data": {
      "image/png": "[encoded data removed]",
      "text/plain": [
       "<Figure size 1500x600 with 1 Axes>"
      ]
     },
     "metadata": {},
     "output_type": "display_data"
    }
   ],
   "source": [
    "# Calcular residuos\n",
    "residuals = y_test_numeric - y_pred_numeric\n",
    "# Crear figura con dos subplots\n",
    "fig, (ax1) = plt.subplots(1, figsize=(15, 6))\n",
    "\n",
    "# 1. Gráfico de residuos vs valores predichos\n",
    "ax1.scatter(y_pred_numeric, residuals, alpha=0.5)\n",
    "ax1.axhline(y=0, color='r', linestyle='--')\n",
    "ax1.set_xlabel('Valores Predichos')\n",
    "ax1.set_ylabel('Residuos')\n",
    "ax1.set_title('Residuos vs Valores Predichos')\n",
    "ax1.grid(True, linestyle='--', alpha=0.7)\n"
   ]
  },
  {
   "cell_type": "markdown",
   "metadata": {},
   "source": [
    "# Análisis de la Gráfica de Residuos\n",
    "1. Distribución de Residuos:\n",
    "- Los residuos se distribuyen alrededor de la línea horizontal en y=0 (línea roja punteada)\n",
    "- La mayoría de los residuos se concentran en el rango de ±1, lo que indica que las predicciones del modelo generalmente están dentro de una categoría de diferencia\n",
    "- La gráfica muestra que los residuos están distribuidos alrededor de 0, lo cual es un buen indicador de que el modelo no tiene un sesgo sistemático hacia sobreestimar o subestimar las categorías.\n",
    "2. Patrones Observados:\n",
    "- Hay una estructura visible en los residuos debido a la naturaleza categórica de las predicciones (1=Bajo, 2=Medio, 3=Alto)\n",
    "- Se observan bandas horizontales claras que corresponden a los errores de clasificación entre categorías adyacentes\n",
    "- Los valores negativos son normales y representan casos donde el modelo predijo una categoría más alta que la real.\n",
    "3. Magnitud de Errores:\n",
    "- Los errores más grandes (residuos más alejados de 0) son menos frecuentes\n",
    "- La mayoría de los errores son de magnitud pequeña, lo que sugiere que el modelo tiende a confundir principalmente categorías adyacentes\n",
    "- Hay pocos casos de errores extremos (residuos cercanos a ±2), indicando que el modelo raramente confunde categorías no adyacentes (como predecir \"Alto\" cuando es \"Bajo\" o viceversa)\n",
    "### Conclusión General\n",
    "- El análisis de residuos muestra que el modelo tiene un buen rendimiento general, con la mayoría de los errores siendo relativamente pequeños y sistemáticos. La estructura discreta visible en la gráfica es esperada debido a la naturaleza categórica del problema. El modelo muestra una tendencia a mantener sus errores dentro de categorías adyacentes, lo cual es preferible en un contexto de clasificación ordinal.\n",
    "\n",
    "### Implicaciones\n",
    "- El modelo es más confiable para predicciones entre categorías adyacentes\n",
    "- Los errores grandes son poco frecuentes, lo que sugiere que el modelo es robusto\n",
    "- La distribución de residuos indica que el modelo es adecuado para la tarea de clasificación, aunque hay espacio para mejoras en la diferenciación entre categorías adyacentes\n",
    "---"
   ]
  },
  {
   "cell_type": "markdown",
   "metadata": {},
   "source": [
    "# Evaluacion y Analisis "
   ]
  },
  {
   "cell_type": "code",
   "execution_count": null,
   "metadata": {},
   "outputs": [],
   "source": [
    "\n",
    "best_model = LGBMClassifier(random_state=42)\n",
    "best_model.fit(X_train, y_train)"
   ]
  },
  {
   "cell_type": "markdown",
   "metadata": {},
   "source": [
    "## Conclusión: Despliegue y Documentación del Modelo de Clasificación de Videojuegos\n",
    "\n",
    "El desarrollo del modelo de clasificación para predecir la variable *rating* ha pasado por diversas etapas, desde la limpieza y preprocesamiento de datos hasta la evaluación de múltiples algoritmos de aprendizaje automático. A continuación, se detallan las acciones clave para su despliegue y documentación:\n",
    "\n",
    "### 1. Preparación del Modelo para Producción\n",
    "- Se ha optimizado el código mediante el uso de pipelines, permitiendo una integración eficiente y reproducible del flujo de datos.\n",
    "- Se ha implementado un pipeline de predicción que encapsula la transformación de datos, selección de características y clasificación final.\n",
    "- Se ha considerado la mitigación del desbalance de clases con técnicas como *SMOTE*, asegurando una mejor generalización del modelo.\n",
    "\n",
    "### 2. Documentación del Proceso\n",
    "- Se han registrado las decisiones tomadas durante el desarrollo, incluyendo la selección de algoritmos y los métodos de evaluación utilizados.\n",
    "- Se han reportado los resultados obtenidos, con métricas clave como *accuracy*, *F1-score* y matrices de confusión, asegurando una comprensión clara del desempeño del modelo.\n",
    "- Se han identificado y documentado las limitaciones encontradas, como posibles sesgos en los datos, la necesidad de más características explicativas y la sensibilidad del modelo a ciertos umbrales de clasificación.\n",
    "\n",
    "### 3. Plan de Monitoreo y Mantenimiento\n",
    "- Se han definido métricas de seguimiento, como la *drift detection* para identificar posibles cambios en la distribución de datos que podrían afectar el desempeño del modelo.\n",
    "- Se ha establecido una frecuencia de actualización basada en la recopilación de nuevos datos, con reevaluaciones periódicas del modelo.\n",
    "- Se han delineado procedimientos de mantenimiento que incluyen el reentrenamiento del modelo en caso de caída en el rendimiento y la revisión de hiperparámetros cuando sea necesario.\n",
    "\n",
    "Con estos pasos, el modelo queda listo para su implementación en un entorno productivo, asegurando su estabilidad, escalabilidad y capacidad de adaptación a nuevas condiciones del mercado"
   ]
  }
 ],
 "metadata": {
  "kernelspec": {
   "display_name": "ml-DsEFPCCK-py3.11",
   "language": "python",
   "name": "python3"
  },
  "language_info": {
   "codemirror_mode": {
    "name": "ipython",
    "version": 3
   },
   "file_extension": ".py",
   "mimetype": "text/x-python",
   "name": "python",
   "nbconvert_exporter": "python",
   "pygments_lexer": "ipython3",
   "version": "3.11.9"
  }
 },
 "nbformat": 4,
 "nbformat_minor": 2
}
