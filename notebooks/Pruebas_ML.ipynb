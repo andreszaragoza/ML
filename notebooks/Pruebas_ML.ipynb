{
 "cells": [
  {
   "cell_type": "code",
   "execution_count": 1,
   "metadata": {},
   "outputs": [],
   "source": [
    "import os\n",
    "import sys\n",
    "module_path = os.path.abspath(os.path.join('..'))\n",
    "if module_path not in sys.path:\n",
    "    sys.path.append(module_path)"
   ]
  },
  {
   "cell_type": "code",
   "execution_count": 2,
   "metadata": {},
   "outputs": [],
   "source": [
    "import seaborn as sns\n",
    "import matplotlib.pyplot as plt\n",
    "import pandas as pd\n",
    "import numpy as np\n",
    "from collections import Counter\n",
    "from sklearn.model_selection import train_test_split\n",
    "from imblearn.over_sampling import SMOTE, KMeansSMOTE\n",
    "from sklearn.ensemble import RandomForestRegressor\n",
    "from sklearn.metrics import mean_squared_error, r2_score\n",
    "from sklearn.preprocessing import StandardScaler, MinMaxScaler"
   ]
  },
  {
   "cell_type": "code",
   "execution_count": 3,
   "metadata": {},
   "outputs": [
    {
     "data": {
      "text/html": [
       "<div>\n",
       "<style scoped>\n",
       "    .dataframe tbody tr th:only-of-type {\n",
       "        vertical-align: middle;\n",
       "    }\n",
       "\n",
       "    .dataframe tbody tr th {\n",
       "        vertical-align: top;\n",
       "    }\n",
       "\n",
       "    .dataframe thead th {\n",
       "        text-align: right;\n",
       "    }\n",
       "</style>\n",
       "<table border=\"1\" class=\"dataframe\">\n",
       "  <thead>\n",
       "    <tr style=\"text-align: right;\">\n",
       "      <th></th>\n",
       "      <th>slug</th>\n",
       "      <th>name</th>\n",
       "      <th>playtime</th>\n",
       "      <th>released</th>\n",
       "      <th>rating</th>\n",
       "      <th>rating_top</th>\n",
       "      <th>ratings_count</th>\n",
       "      <th>reviews_text_count</th>\n",
       "      <th>added</th>\n",
       "      <th>metacritic</th>\n",
       "      <th>suggestions_count</th>\n",
       "      <th>updated</th>\n",
       "      <th>reviews_count</th>\n",
       "      <th>release_year</th>\n",
       "      <th>main_genre</th>\n",
       "      <th>metacritic_category</th>\n",
       "    </tr>\n",
       "  </thead>\n",
       "  <tbody>\n",
       "    <tr>\n",
       "      <th>0</th>\n",
       "      <td>hellpoint</td>\n",
       "      <td>Hellpoint</td>\n",
       "      <td>3</td>\n",
       "      <td>2020-07-30</td>\n",
       "      <td>2.76</td>\n",
       "      <td>3</td>\n",
       "      <td>51</td>\n",
       "      <td>2</td>\n",
       "      <td>2182</td>\n",
       "      <td>61.0</td>\n",
       "      <td>494</td>\n",
       "      <td>2024-11-26 14:58:37</td>\n",
       "      <td>54</td>\n",
       "      <td>2020</td>\n",
       "      <td>Indie</td>\n",
       "      <td>Media</td>\n",
       "    </tr>\n",
       "    <tr>\n",
       "      <th>1</th>\n",
       "      <td>anomaly-2</td>\n",
       "      <td>Anomaly 2</td>\n",
       "      <td>2</td>\n",
       "      <td>2013-05-14</td>\n",
       "      <td>2.90</td>\n",
       "      <td>4</td>\n",
       "      <td>62</td>\n",
       "      <td>0</td>\n",
       "      <td>1898</td>\n",
       "      <td>77.0</td>\n",
       "      <td>610</td>\n",
       "      <td>2024-10-07 11:59:32</td>\n",
       "      <td>62</td>\n",
       "      <td>2013</td>\n",
       "      <td>Strategy</td>\n",
       "      <td>Media</td>\n",
       "    </tr>\n",
       "    <tr>\n",
       "      <th>2</th>\n",
       "      <td>reverse-4</td>\n",
       "      <td>Resident Evil Re:Verse</td>\n",
       "      <td>1</td>\n",
       "      <td>2022-10-28</td>\n",
       "      <td>1.53</td>\n",
       "      <td>1</td>\n",
       "      <td>63</td>\n",
       "      <td>0</td>\n",
       "      <td>1662</td>\n",
       "      <td>78.0</td>\n",
       "      <td>456</td>\n",
       "      <td>2024-11-14 19:49:03</td>\n",
       "      <td>64</td>\n",
       "      <td>2022</td>\n",
       "      <td>Shooter</td>\n",
       "      <td>Media</td>\n",
       "    </tr>\n",
       "    <tr>\n",
       "      <th>3</th>\n",
       "      <td>x-morph-defense</td>\n",
       "      <td>X-Morph: Defense</td>\n",
       "      <td>3</td>\n",
       "      <td>2017-08-30</td>\n",
       "      <td>3.08</td>\n",
       "      <td>3</td>\n",
       "      <td>47</td>\n",
       "      <td>1</td>\n",
       "      <td>1657</td>\n",
       "      <td>75.0</td>\n",
       "      <td>702</td>\n",
       "      <td>2024-11-08 09:09:44</td>\n",
       "      <td>48</td>\n",
       "      <td>2017</td>\n",
       "      <td>Indie</td>\n",
       "      <td>Media</td>\n",
       "    </tr>\n",
       "    <tr>\n",
       "      <th>4</th>\n",
       "      <td>west-of-dead</td>\n",
       "      <td>West of Dead</td>\n",
       "      <td>1</td>\n",
       "      <td>2020-06-08</td>\n",
       "      <td>3.08</td>\n",
       "      <td>3</td>\n",
       "      <td>64</td>\n",
       "      <td>2</td>\n",
       "      <td>1634</td>\n",
       "      <td>68.0</td>\n",
       "      <td>456</td>\n",
       "      <td>2024-03-05 13:43:19</td>\n",
       "      <td>66</td>\n",
       "      <td>2020</td>\n",
       "      <td>Indie</td>\n",
       "      <td>Media</td>\n",
       "    </tr>\n",
       "    <tr>\n",
       "      <th>...</th>\n",
       "      <td>...</td>\n",
       "      <td>...</td>\n",
       "      <td>...</td>\n",
       "      <td>...</td>\n",
       "      <td>...</td>\n",
       "      <td>...</td>\n",
       "      <td>...</td>\n",
       "      <td>...</td>\n",
       "      <td>...</td>\n",
       "      <td>...</td>\n",
       "      <td>...</td>\n",
       "      <td>...</td>\n",
       "      <td>...</td>\n",
       "      <td>...</td>\n",
       "      <td>...</td>\n",
       "      <td>...</td>\n",
       "    </tr>\n",
       "    <tr>\n",
       "      <th>3763</th>\n",
       "      <td>the-otterman-empire</td>\n",
       "      <td>The Otterman Empire</td>\n",
       "      <td>0</td>\n",
       "      <td>2020-07-02</td>\n",
       "      <td>0.00</td>\n",
       "      <td>0</td>\n",
       "      <td>0</td>\n",
       "      <td>0</td>\n",
       "      <td>0</td>\n",
       "      <td>76.5</td>\n",
       "      <td>333</td>\n",
       "      <td>2020-12-16 15:29:54</td>\n",
       "      <td>0</td>\n",
       "      <td>2020</td>\n",
       "      <td>Casual</td>\n",
       "      <td>Media</td>\n",
       "    </tr>\n",
       "    <tr>\n",
       "      <th>3764</th>\n",
       "      <td>jacks-or-better-video-poker</td>\n",
       "      <td>Jacks or Better - Video Poker</td>\n",
       "      <td>0</td>\n",
       "      <td>2020-06-12</td>\n",
       "      <td>0.00</td>\n",
       "      <td>0</td>\n",
       "      <td>0</td>\n",
       "      <td>0</td>\n",
       "      <td>0</td>\n",
       "      <td>76.5</td>\n",
       "      <td>0</td>\n",
       "      <td>2022-04-29 05:58:06</td>\n",
       "      <td>0</td>\n",
       "      <td>2020</td>\n",
       "      <td>Casual</td>\n",
       "      <td>Media</td>\n",
       "    </tr>\n",
       "    <tr>\n",
       "      <th>3765</th>\n",
       "      <td>jumanji-the-curse-returns</td>\n",
       "      <td>Jumanji: The Curse Returns</td>\n",
       "      <td>0</td>\n",
       "      <td>2021-09-01</td>\n",
       "      <td>0.00</td>\n",
       "      <td>0</td>\n",
       "      <td>0</td>\n",
       "      <td>0</td>\n",
       "      <td>0</td>\n",
       "      <td>76.0</td>\n",
       "      <td>251</td>\n",
       "      <td>2022-09-19 08:16:26</td>\n",
       "      <td>0</td>\n",
       "      <td>2021</td>\n",
       "      <td>Adventure</td>\n",
       "      <td>Media</td>\n",
       "    </tr>\n",
       "    <tr>\n",
       "      <th>3766</th>\n",
       "      <td>avocuddle</td>\n",
       "      <td>AvoCuddle</td>\n",
       "      <td>0</td>\n",
       "      <td>2019-07-12</td>\n",
       "      <td>0.00</td>\n",
       "      <td>0</td>\n",
       "      <td>0</td>\n",
       "      <td>0</td>\n",
       "      <td>0</td>\n",
       "      <td>73.0</td>\n",
       "      <td>400</td>\n",
       "      <td>2020-12-16 14:38:36</td>\n",
       "      <td>0</td>\n",
       "      <td>2019</td>\n",
       "      <td>Indie</td>\n",
       "      <td>Media</td>\n",
       "    </tr>\n",
       "    <tr>\n",
       "      <th>3767</th>\n",
       "      <td>tarzan-vr</td>\n",
       "      <td>Tarzan VR</td>\n",
       "      <td>0</td>\n",
       "      <td>2020-11-17</td>\n",
       "      <td>0.00</td>\n",
       "      <td>0</td>\n",
       "      <td>0</td>\n",
       "      <td>0</td>\n",
       "      <td>0</td>\n",
       "      <td>72.0</td>\n",
       "      <td>395</td>\n",
       "      <td>2024-01-10 08:44:02</td>\n",
       "      <td>0</td>\n",
       "      <td>2020</td>\n",
       "      <td>Adventure</td>\n",
       "      <td>Media</td>\n",
       "    </tr>\n",
       "  </tbody>\n",
       "</table>\n",
       "<p>3768 rows × 16 columns</p>\n",
       "</div>"
      ],
      "text/plain": [
       "                             slug                           name  playtime  \\\n",
       "0                       hellpoint                      Hellpoint         3   \n",
       "1                       anomaly-2                      Anomaly 2         2   \n",
       "2                       reverse-4         Resident Evil Re:Verse         1   \n",
       "3                 x-morph-defense               X-Morph: Defense         3   \n",
       "4                    west-of-dead                   West of Dead         1   \n",
       "...                           ...                            ...       ...   \n",
       "3763          the-otterman-empire            The Otterman Empire         0   \n",
       "3764  jacks-or-better-video-poker  Jacks or Better - Video Poker         0   \n",
       "3765    jumanji-the-curse-returns     Jumanji: The Curse Returns         0   \n",
       "3766                    avocuddle                      AvoCuddle         0   \n",
       "3767                    tarzan-vr                      Tarzan VR         0   \n",
       "\n",
       "        released  rating  rating_top  ratings_count  reviews_text_count  \\\n",
       "0     2020-07-30    2.76           3             51                   2   \n",
       "1     2013-05-14    2.90           4             62                   0   \n",
       "2     2022-10-28    1.53           1             63                   0   \n",
       "3     2017-08-30    3.08           3             47                   1   \n",
       "4     2020-06-08    3.08           3             64                   2   \n",
       "...          ...     ...         ...            ...                 ...   \n",
       "3763  2020-07-02    0.00           0              0                   0   \n",
       "3764  2020-06-12    0.00           0              0                   0   \n",
       "3765  2021-09-01    0.00           0              0                   0   \n",
       "3766  2019-07-12    0.00           0              0                   0   \n",
       "3767  2020-11-17    0.00           0              0                   0   \n",
       "\n",
       "      added  metacritic  suggestions_count              updated  \\\n",
       "0      2182        61.0                494  2024-11-26 14:58:37   \n",
       "1      1898        77.0                610  2024-10-07 11:59:32   \n",
       "2      1662        78.0                456  2024-11-14 19:49:03   \n",
       "3      1657        75.0                702  2024-11-08 09:09:44   \n",
       "4      1634        68.0                456  2024-03-05 13:43:19   \n",
       "...     ...         ...                ...                  ...   \n",
       "3763      0        76.5                333  2020-12-16 15:29:54   \n",
       "3764      0        76.5                  0  2022-04-29 05:58:06   \n",
       "3765      0        76.0                251  2022-09-19 08:16:26   \n",
       "3766      0        73.0                400  2020-12-16 14:38:36   \n",
       "3767      0        72.0                395  2024-01-10 08:44:02   \n",
       "\n",
       "      reviews_count  release_year main_genre metacritic_category  \n",
       "0                54          2020      Indie               Media  \n",
       "1                62          2013   Strategy               Media  \n",
       "2                64          2022    Shooter               Media  \n",
       "3                48          2017      Indie               Media  \n",
       "4                66          2020      Indie               Media  \n",
       "...             ...           ...        ...                 ...  \n",
       "3763              0          2020     Casual               Media  \n",
       "3764              0          2020     Casual               Media  \n",
       "3765              0          2021  Adventure               Media  \n",
       "3766              0          2019      Indie               Media  \n",
       "3767              0          2020  Adventure               Media  \n",
       "\n",
       "[3768 rows x 16 columns]"
      ]
     },
     "execution_count": 3,
     "metadata": {},
     "output_type": "execute_result"
    }
   ],
   "source": [
    "file_path = '../data/processed/Juegorawg_limpio.csv'\n",
    "df = pd.read_csv(file_path)\n",
    "df.copy()"
   ]
  },
  {
   "cell_type": "markdown",
   "metadata": {},
   "source": [
    "# Feature numericas derivadas\n",
    "1. Aplicar logaritmo a playtime para reducir la influencia de valores extremos.\n"
   ]
  },
  {
   "cell_type": "code",
   "execution_count": 4,
   "metadata": {},
   "outputs": [],
   "source": [
    "df['playtime_log'] = df['playtime'].apply(lambda x: np.log1p(x))"
   ]
  },
  {
   "cell_type": "markdown",
   "metadata": {},
   "source": [
    "# Codificamos las variables categoricas"
   ]
  },
  {
   "cell_type": "code",
   "execution_count": 5,
   "metadata": {},
   "outputs": [],
   "source": [
    "df = pd.get_dummies(df, columns=['main_genre', 'metacritic_category'], drop_first=True)"
   ]
  },
  {
   "cell_type": "markdown",
   "metadata": {},
   "source": [
    "### Reviso que no haya datos numericos en X"
   ]
  },
  {
   "cell_type": "code",
   "execution_count": 6,
   "metadata": {},
   "outputs": [
    {
     "name": "stdout",
     "output_type": "stream",
     "text": [
      "Eliminando columnas no numéricas: ['slug', 'name', 'released', 'updated']\n"
     ]
    }
   ],
   "source": [
    "non_numeric_columns = df.select_dtypes(include=['object']).columns\n",
    "if len(non_numeric_columns) > 0:\n",
    "    print(\"Eliminando columnas no numéricas:\", non_numeric_columns.tolist())\n",
    "    df.drop(columns=non_numeric_columns, inplace=True)"
   ]
  },
  {
   "cell_type": "markdown",
   "metadata": {},
   "source": [
    "# Escalado de varianles numericas"
   ]
  },
  {
   "cell_type": "code",
   "execution_count": 7,
   "metadata": {},
   "outputs": [],
   "source": [
    "scaler = StandardScaler()\n",
    "df[['rating', 'metacritic', 'playtime_log']] = StandardScaler().fit_transform(df[['rating', 'metacritic', 'playtime_log']])"
   ]
  },
  {
   "cell_type": "markdown",
   "metadata": {},
   "source": [
    "# Seperacion en el conjunto de entrenamiento con respecto a nuestra target ' rating'"
   ]
  },
  {
   "cell_type": "code",
   "execution_count": 8,
   "metadata": {},
   "outputs": [],
   "source": [
    "X = df.drop(columns=['rating']) \n",
    "y = df['rating']  \n",
    "X_train, X_test, y_train, y_test = train_test_split(X, y, test_size=0.2, random_state=42)"
   ]
  },
  {
   "cell_type": "markdown",
   "metadata": {},
   "source": [
    "### Balanceo de datos"
   ]
  },
  {
   "cell_type": "code",
   "execution_count": 9,
   "metadata": {},
   "outputs": [],
   "source": [
    "quantile_low = y_train.quantile(0.05)  \n",
    "quantile_high = y_train.quantile(0.95)  \n",
    "mask = (y_train >= quantile_low) & (y_train <= quantile_high)\n",
    "X_train_balanced = X_train[mask]\n",
    "y_train_balanced = y_train[mask]"
   ]
  },
  {
   "cell_type": "code",
   "execution_count": 10,
   "metadata": {},
   "outputs": [],
   "source": [
    "assert X_train_balanced.select_dtypes(include=['object']).shape[1] == 0, \"Aún hay columnas categóricas en X_train_balanced\""
   ]
  },
  {
   "cell_type": "markdown",
   "metadata": {},
   "source": [
    "## Modelos"
   ]
  },
  {
   "cell_type": "code",
   "execution_count": 12,
   "metadata": {},
   "outputs": [],
   "source": [
    "from sklearn.svm import SVR\n",
    "from xgboost import XGBRegressor\n",
    "from lightgbm import LGBMRegressor"
   ]
  },
  {
   "cell_type": "code",
   "execution_count": 13,
   "metadata": {},
   "outputs": [],
   "source": [
    "models = {\n",
    "    \"Random Forest\": RandomForestRegressor(n_estimators=100, random_state=42),\n",
    "    \"SVM\": SVR(kernel='rbf', C=1.0, gamma='scale'),\n",
    "    \"XGBoost\": XGBRegressor(objective='reg:squarederror', n_estimators=100, random_state=42),\n",
    "    \"LightGBM\": LGBMRegressor(n_estimators=100, random_state=42)\n",
    "}"
   ]
  },
  {
   "cell_type": "markdown",
   "metadata": {},
   "source": [
    "# Entrenamiento del modelo  y evaluacion."
   ]
  },
  {
   "cell_type": "code",
   "execution_count": 14,
   "metadata": {},
   "outputs": [
    {
     "name": "stdout",
     "output_type": "stream",
     "text": [
      "[LightGBM] [Warning] Found whitespace in feature_names, replace with underlines\n",
      "[LightGBM] [Info] Auto-choosing row-wise multi-threading, the overhead of testing was 0.000300 seconds.\n",
      "You can set `force_row_wise=true` to remove the overhead.\n",
      "And if memory is not enough, you can set `force_col_wise=true`.\n",
      "[LightGBM] [Info] Total Bins 780\n",
      "[LightGBM] [Info] Number of data points in the train set: 3014, number of used features: 20\n",
      "[LightGBM] [Info] Start training from score -0.004405\n"
     ]
    },
    {
     "data": {
      "text/plain": [
       "<Figure size 1200x800 with 0 Axes>"
      ]
     },
     "metadata": {},
     "output_type": "display_data"
    }
   ],
   "source": [
    "results = {}\n",
    "plt.figure(figsize=(12, 8))\n",
    "for name, model in models.items():\n",
    "    model.fit(X_train, y_train)\n",
    "    y_pred = model.predict(X_test)\n",
    "    mse = mean_squared_error(y_test, y_pred)\n",
    "    r2 = r2_score(y_test, y_pred)\n",
    "    results[name] = (mse, r2)"
   ]
  },
  {
   "cell_type": "markdown",
   "metadata": {},
   "source": [
    "## Grafico de dispersion "
   ]
  },
  {
   "cell_type": "code",
   "execution_count": 15,
   "metadata": {},
   "outputs": [
    {
     "data": {
      "image/png": "[encoded data removed]",
      "text/plain": [
       "<Figure size 640x480 with 1 Axes>"
      ]
     },
     "metadata": {},
     "output_type": "display_data"
    }
   ],
   "source": [
    "plt.scatter(y_test, y_pred, alpha=0.5, label=name)\n",
    "\n",
    "plt.plot([-2, 2], [-2, 2], '--', color='black')\n",
    "plt.xlabel(\"Valor Real\")\n",
    "plt.ylabel(\"Predicción\")\n",
    "plt.title(\"Comparación de Modelos - Predicción vs Real\")\n",
    "plt.legend()\n",
    "plt.show()"
   ]
  },
  {
   "cell_type": "markdown",
   "metadata": {},
   "source": [
    "## Primer resumen"
   ]
  },
  {
   "cell_type": "code",
   "execution_count": 16,
   "metadata": {},
   "outputs": [],
   "source": [
    "results_df = pd.DataFrame(results, index=[\"MSE\", \"R²\"])"
   ]
  },
  {
   "cell_type": "code",
   "execution_count": 17,
   "metadata": {},
   "outputs": [
    {
     "name": "stdout",
     "output_type": "stream",
     "text": [
      "     Random Forest       SVM   XGBoost  LightGBM\n",
      "MSE       0.022153  0.494041  0.025583  0.023152\n",
      "R²        0.977773  0.504301  0.974331  0.976770\n"
     ]
    }
   ],
   "source": [
    "print(results_df)"
   ]
  },
  {
   "cell_type": "markdown",
   "metadata": {},
   "source": [
    "# Conclusión del Análisis de Modelos\n",
    "\n",
    "## 1. Comparación de Modelos\n",
    "Se evaluaron tres modelos de machine learning para predecir la variable `rating` en videojuegos:\n",
    "- **Random Forest**\n",
    "- **Support Vector Machine (SVM)**\n",
    "- **XGBoost**\n",
    "\n",
    "Los resultados comparativos fueron:\n",
    "\n",
    "| Modelo          | MSE (Error Medio Cuadrático) | R² (Coeficiente de Determinación) |\n",
    "|----------------|--------------------|--------------------|\n",
    "| **Random Forest** | 0.0223  | 0.9776  |\n",
    "| **SVM**         | 0.4940  | 0.5043  |\n",
    "| **XGBoost**      | **0.0219** (Mejor desempeño) | **0.9780** (Mayor ajuste) |\n",
    "\n",
    "## 2. Interpretación de Resultados\n",
    "- **XGBoost fue el mejor modelo** con el menor error y el mejor coeficiente de determinación (R² cercano a 1).\n",
    "- **Random Forest también tuvo un buen desempeño**, con resultados muy similares a XGBoost.\n",
    "- **SVM no funcionó bien**, mostrando un error mucho mayor y un R² bajo, indicando que no captura bien las relaciones en los datos.\n",
    "\n",
    "## 3. Importancia de Variables\n",
    "Se analizó la importancia de las variables en el modelo XGBoost, lo que permitió identificar cuáles factores tienen mayor impacto en la predicción de `rating`. \n",
    "\n",
    "## 4. Conclusiones Finales y Siguientes Pasos\n",
    "- **XGBoost es el modelo recomendado** para este problema.\n",
    "- **Se podría optimizar XGBoost aún más** con ajuste de hiperparámetros para mejorar su rendimiento.\n",
    "- **Analizar más a fondo las variables más importantes** para entender mejor qué influye en `rating` y mejorar la interpretabilidad del modelo.\n",
    "- **Reducir la cantidad de variables menos relevantes** para hacer el modelo más eficiente sin sacrificar precisión.\n",
    "\n",
    "Este análisis permite seleccionar un modelo confiable para predecir `rating`, lo que puede ser útil en el desarrollo de videojuegos y análisis de mercado"
   ]
  }
 ],
 "metadata": {
  "kernelspec": {
   "display_name": "ml-DsEFPCCK-py3.11",
   "language": "python",
   "name": "python3"
  },
  "language_info": {
   "codemirror_mode": {
    "name": "ipython",
    "version": 3
   },
   "file_extension": ".py",
   "mimetype": "text/x-python",
   "name": "python",
   "nbconvert_exporter": "python",
   "pygments_lexer": "ipython3",
   "version": "3.11.9"
  }
 },
 "nbformat": 4,
 "nbformat_minor": 2
}
