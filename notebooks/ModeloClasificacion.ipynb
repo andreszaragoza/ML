{
 "cells": [
  {
   "cell_type": "code",
   "execution_count": 1,
   "metadata": {},
   "outputs": [],
   "source": [
    "import os\n",
    "import sys\n",
    "module_path = os.path.abspath(os.path.join('..'))\n",
    "if module_path not in sys.path:\n",
    "    sys.path.append(module_path)"
   ]
  },
  {
   "cell_type": "code",
   "execution_count": null,
   "metadata": {},
   "outputs": [],
   "source": [
    "import pandas as pd\n",
    "import numpy as np\n",
    "from sklearn.model_selection import train_test_split\n",
    "from sklearn.ensemble import RandomForestClassifier\n",
    "from sklearn.metrics import classification_report, accuracy_score, confusion_matrix\n",
    "from sklearn.preprocessing import StandardScaler\n",
    "\n",
    "file_path = '../data/processed/Juegorawg_limpio.csv'\n",
    "df = pd.read_csv(file_path)\n",
    "df.copy()\n",
    "\n",
    "df[\"playtime_log\"] = np.log1p(df[\"playtime\"])  # Transformación logarítmica\n",
    "\n",
    "# Calcular cuartiles\n",
    "Q1 = df[\"playtime_log\"].quantile(0.25)\n",
    "Q3 = df[\"playtime_log\"].quantile(0.75)\n",
    "\n",
    "# Función para clasificar\n",
    "def categorize_playtime(x):\n",
    "    if x < Q1:\n",
    "        return \"Bajo\"\n",
    "    elif Q1 <= x <= Q3:\n",
    "        return \"Medio\"\n",
    "    else:\n",
    "        return \"Alto\"\n",
    "\n",
    "\n",
    "df[\"playtime_category\"] = df[\"playtime_log\"].apply(categorize_playtime)\n",
    "\n",
    "\n",
    "\n",
    "X = df.drop(columns=[\"playtime\", \"playtime_log\", \"playtime_category\", \"slug\", \"name\", \"updated\"])\n",
    "y = df[\"playtime_category\"]\n",
    "\n",
    "\n",
    "X = pd.get_dummies(X, drop_first=True)\n",
    "\n",
    "\n",
    "X_train, X_test, y_train, y_test = train_test_split(X, y, test_size=0.2, random_state=42, stratify=y)\n",
    "\n",
    "# Normalizar los datos numéricos\n",
    "scaler = StandardScaler()\n",
    "X_train = scaler.fit_transform(X_train)\n",
    "X_test = scaler.transform(X_test)\n",
    "\n",
    "\n",
    "clf = RandomForestClassifier(n_estimators=100, random_state=42)\n",
    "clf.fit(X_train, y_train)\n",
    "\n",
    "\n",
    "y_pred = clf.predict(X_test)\n",
    "\n",
    "# Evaluar el modelo\n",
    "accuracy = accuracy_score(y_test, y_pred)\n",
    "report = classification_report(y_test, y_pred, output_dict=True)\n",
    "\n",
    "# Mostrar los resultados\n",
    "result_df = pd.DataFrame(report).transpose()\n",
    "\n"
   ]
  },
  {
   "cell_type": "code",
   "execution_count": 3,
   "metadata": {},
   "outputs": [
    {
     "data": {
      "text/html": [
       "<div>\n",
       "<style scoped>\n",
       "    .dataframe tbody tr th:only-of-type {\n",
       "        vertical-align: middle;\n",
       "    }\n",
       "\n",
       "    .dataframe tbody tr th {\n",
       "        vertical-align: top;\n",
       "    }\n",
       "\n",
       "    .dataframe thead th {\n",
       "        text-align: right;\n",
       "    }\n",
       "</style>\n",
       "<table border=\"1\" class=\"dataframe\">\n",
       "  <thead>\n",
       "    <tr style=\"text-align: right;\">\n",
       "      <th></th>\n",
       "      <th>precision</th>\n",
       "      <th>recall</th>\n",
       "      <th>f1-score</th>\n",
       "      <th>support</th>\n",
       "    </tr>\n",
       "  </thead>\n",
       "  <tbody>\n",
       "    <tr>\n",
       "      <th>Alto</th>\n",
       "      <td>0.500000</td>\n",
       "      <td>0.065089</td>\n",
       "      <td>0.115183</td>\n",
       "      <td>169.000000</td>\n",
       "    </tr>\n",
       "    <tr>\n",
       "      <th>Medio</th>\n",
       "      <td>0.784153</td>\n",
       "      <td>0.981197</td>\n",
       "      <td>0.871678</td>\n",
       "      <td>585.000000</td>\n",
       "    </tr>\n",
       "    <tr>\n",
       "      <th>accuracy</th>\n",
       "      <td>0.775862</td>\n",
       "      <td>0.775862</td>\n",
       "      <td>0.775862</td>\n",
       "      <td>0.775862</td>\n",
       "    </tr>\n",
       "    <tr>\n",
       "      <th>macro avg</th>\n",
       "      <td>0.642077</td>\n",
       "      <td>0.523143</td>\n",
       "      <td>0.493431</td>\n",
       "      <td>754.000000</td>\n",
       "    </tr>\n",
       "    <tr>\n",
       "      <th>weighted avg</th>\n",
       "      <td>0.720464</td>\n",
       "      <td>0.775862</td>\n",
       "      <td>0.702119</td>\n",
       "      <td>754.000000</td>\n",
       "    </tr>\n",
       "  </tbody>\n",
       "</table>\n",
       "</div>"
      ],
      "text/plain": [
       "              precision    recall  f1-score     support\n",
       "Alto           0.500000  0.065089  0.115183  169.000000\n",
       "Medio          0.784153  0.981197  0.871678  585.000000\n",
       "accuracy       0.775862  0.775862  0.775862    0.775862\n",
       "macro avg      0.642077  0.523143  0.493431  754.000000\n",
       "weighted avg   0.720464  0.775862  0.702119  754.000000"
      ]
     },
     "execution_count": 3,
     "metadata": {},
     "output_type": "execute_result"
    }
   ],
   "source": [
    "result_df"
   ]
  },
  {
   "cell_type": "markdown",
   "metadata": {},
   "source": [
    "### Exactitud del modelo(Accuracy)"
   ]
  },
  {
   "cell_type": "code",
   "execution_count": 4,
   "metadata": {},
   "outputs": [
    {
     "name": "stdout",
     "output_type": "stream",
     "text": [
      "Exactitud del modelo: 0.78\n"
     ]
    }
   ],
   "source": [
    "print(f\"Exactitud del modelo: {accuracy_score(y_test, y_pred):.2f}\")"
   ]
  },
  {
   "cell_type": "markdown",
   "metadata": {},
   "source": [
    "## Reporte de clasificacion"
   ]
  },
  {
   "cell_type": "code",
   "execution_count": 5,
   "metadata": {},
   "outputs": [
    {
     "name": "stdout",
     "output_type": "stream",
     "text": [
      "Reporte de Clasificación:\n",
      "              precision    recall  f1-score   support\n",
      "\n",
      "        Alto       0.50      0.07      0.12       169\n",
      "       Medio       0.78      0.98      0.87       585\n",
      "\n",
      "    accuracy                           0.78       754\n",
      "   macro avg       0.64      0.52      0.49       754\n",
      "weighted avg       0.72      0.78      0.70       754\n",
      "\n"
     ]
    }
   ],
   "source": [
    "print(\"Reporte de Clasificación:\")\n",
    "print(classification_report(y_test, y_pred))"
   ]
  },
  {
   "cell_type": "markdown",
   "metadata": {},
   "source": [
    "## Calcular la matriz de confusion"
   ]
  },
  {
   "cell_type": "code",
   "execution_count": 6,
   "metadata": {},
   "outputs": [
    {
     "data": {
      "image/png": "[encoded data removed]",
      "text/plain": [
       "<Figure size 600x400 with 2 Axes>"
      ]
     },
     "metadata": {},
     "output_type": "display_data"
    }
   ],
   "source": [
    "import seaborn as sns\n",
    "import matplotlib.pyplot as plt\n",
    "conf_matrix = confusion_matrix(y_test, y_pred)\n",
    "\n",
    "# Graficar la matriz\n",
    "plt.figure(figsize=(6,4))\n",
    "sns.heatmap(conf_matrix, annot=True, fmt=\"d\", cmap=\"Blues\",\n",
    "            xticklabels=[\"Bajo\", \"Medio\", \"Alto\"],\n",
    "            yticklabels=[\"Bajo\", \"Medio\", \"Alto\"])\n",
    "plt.xlabel(\"Predicción\")\n",
    "plt.ylabel(\"Real\")\n",
    "plt.title(\"Matriz de Confusión\")\n",
    "plt.show()"
   ]
  },
  {
   "cell_type": "markdown",
   "metadata": {},
   "source": [
    "## 📌 Conclusión del Modelo de Clasificación\n",
    "- El modelo de Random Forest logró una exactitud del 77.6%, lo cual indica un desempeño aceptable, pero no óptimo. Sin embargo, al analizar más a fondo los resultados, encontramos algunas limitaciones importantes:\n",
    "\n",
    "## 🔹 Puntos Fuertes del Modelo\n",
    "- ✅ La categoría \"Medio\" tiene una alta precisión y recall, lo que indica que el modelo puede identificar bien estos juegos.\n",
    "- ✅ El modelo es capaz de aprender patrones de los datos sin necesidad de preprocesamiento complejo.\n",
    "- ✅ Random Forest es un modelo robusto y estable, por lo que los resultados son consistentes.\n",
    "\n",
    "# 🔻 Limitaciones y Problemas Detectados\n",
    "- ⚠️ La categoría \"Alto\" tiene un rendimiento muy bajo (precisión del 50% y recall del 6.5%), lo que significa que el modelo no predice bien los juegos con alta jugabilidad.\n",
    "- ⚠️ Desbalance de clases: La clase \"Alto\" tiene menos datos, lo que hace que el modelo no aprenda bien a identificarla."
   ]
  }
 ],
 "metadata": {
  "kernelspec": {
   "display_name": "ml-DsEFPCCK-py3.11",
   "language": "python",
   "name": "python3"
  },
  "language_info": {
   "codemirror_mode": {
    "name": "ipython",
    "version": 3
   },
   "file_extension": ".py",
   "mimetype": "text/x-python",
   "name": "python",
   "nbconvert_exporter": "python",
   "pygments_lexer": "ipython3",
   "version": "3.11.9"
  }
 },
 "nbformat": 4,
 "nbformat_minor": 2
}
