{
 "cells": [
  {
   "cell_type": "code",
   "execution_count": 1,
   "metadata": {},
   "outputs": [],
   "source": [
    "import os\n",
    "import sys\n",
    "module_path = os.path.abspath(os.path.join('..'))\n",
    "if module_path not in sys.path:\n",
    "    sys.path.append(module_path)"
   ]
  },
  {
   "cell_type": "code",
   "execution_count": 3,
   "metadata": {},
   "outputs": [],
   "source": [
    "import seaborn as sns\n",
    "import matplotlib.pyplot as plt\n",
    "import pandas as pd\n",
    "import numpy as np\n",
    "from collections import Counter\n",
    "from sklearn.model_selection import train_test_split\n",
    "from imblearn.over_sampling import SMOTE, KMeansSMOTE\n",
    "from sklearn.ensemble import RandomForestRegressor\n",
    "from sklearn.metrics import mean_squared_error, r2_score\n",
    "from sklearn.preprocessing import StandardScaler, MinMaxScaler"
   ]
  },
  {
   "cell_type": "code",
   "execution_count": 4,
   "metadata": {},
   "outputs": [
    {
     "data": {
      "text/html": [
       "<div>\n",
       "<style scoped>\n",
       "    .dataframe tbody tr th:only-of-type {\n",
       "        vertical-align: middle;\n",
       "    }\n",
       "\n",
       "    .dataframe tbody tr th {\n",
       "        vertical-align: top;\n",
       "    }\n",
       "\n",
       "    .dataframe thead th {\n",
       "        text-align: right;\n",
       "    }\n",
       "</style>\n",
       "<table border=\"1\" class=\"dataframe\">\n",
       "  <thead>\n",
       "    <tr style=\"text-align: right;\">\n",
       "      <th></th>\n",
       "      <th>slug</th>\n",
       "      <th>name</th>\n",
       "      <th>playtime</th>\n",
       "      <th>released</th>\n",
       "      <th>rating</th>\n",
       "      <th>rating_top</th>\n",
       "      <th>ratings_count</th>\n",
       "      <th>reviews_text_count</th>\n",
       "      <th>added</th>\n",
       "      <th>metacritic</th>\n",
       "      <th>suggestions_count</th>\n",
       "      <th>updated</th>\n",
       "      <th>reviews_count</th>\n",
       "      <th>release_year</th>\n",
       "      <th>main_genre</th>\n",
       "      <th>metacritic_category</th>\n",
       "    </tr>\n",
       "  </thead>\n",
       "  <tbody>\n",
       "    <tr>\n",
       "      <th>0</th>\n",
       "      <td>hellpoint</td>\n",
       "      <td>Hellpoint</td>\n",
       "      <td>3</td>\n",
       "      <td>2020-07-30</td>\n",
       "      <td>2.76</td>\n",
       "      <td>3</td>\n",
       "      <td>51</td>\n",
       "      <td>2</td>\n",
       "      <td>2182</td>\n",
       "      <td>61.0</td>\n",
       "      <td>494</td>\n",
       "      <td>2024-11-26 14:58:37</td>\n",
       "      <td>54</td>\n",
       "      <td>2020</td>\n",
       "      <td>Indie</td>\n",
       "      <td>Media</td>\n",
       "    </tr>\n",
       "    <tr>\n",
       "      <th>1</th>\n",
       "      <td>anomaly-2</td>\n",
       "      <td>Anomaly 2</td>\n",
       "      <td>2</td>\n",
       "      <td>2013-05-14</td>\n",
       "      <td>2.90</td>\n",
       "      <td>4</td>\n",
       "      <td>62</td>\n",
       "      <td>0</td>\n",
       "      <td>1898</td>\n",
       "      <td>77.0</td>\n",
       "      <td>610</td>\n",
       "      <td>2024-10-07 11:59:32</td>\n",
       "      <td>62</td>\n",
       "      <td>2013</td>\n",
       "      <td>Strategy</td>\n",
       "      <td>Media</td>\n",
       "    </tr>\n",
       "    <tr>\n",
       "      <th>2</th>\n",
       "      <td>reverse-4</td>\n",
       "      <td>Resident Evil Re:Verse</td>\n",
       "      <td>1</td>\n",
       "      <td>2022-10-28</td>\n",
       "      <td>1.53</td>\n",
       "      <td>1</td>\n",
       "      <td>63</td>\n",
       "      <td>0</td>\n",
       "      <td>1662</td>\n",
       "      <td>78.0</td>\n",
       "      <td>456</td>\n",
       "      <td>2024-11-14 19:49:03</td>\n",
       "      <td>64</td>\n",
       "      <td>2022</td>\n",
       "      <td>Shooter</td>\n",
       "      <td>Media</td>\n",
       "    </tr>\n",
       "    <tr>\n",
       "      <th>3</th>\n",
       "      <td>x-morph-defense</td>\n",
       "      <td>X-Morph: Defense</td>\n",
       "      <td>3</td>\n",
       "      <td>2017-08-30</td>\n",
       "      <td>3.08</td>\n",
       "      <td>3</td>\n",
       "      <td>47</td>\n",
       "      <td>1</td>\n",
       "      <td>1657</td>\n",
       "      <td>75.0</td>\n",
       "      <td>702</td>\n",
       "      <td>2024-11-08 09:09:44</td>\n",
       "      <td>48</td>\n",
       "      <td>2017</td>\n",
       "      <td>Indie</td>\n",
       "      <td>Media</td>\n",
       "    </tr>\n",
       "    <tr>\n",
       "      <th>4</th>\n",
       "      <td>west-of-dead</td>\n",
       "      <td>West of Dead</td>\n",
       "      <td>1</td>\n",
       "      <td>2020-06-08</td>\n",
       "      <td>3.08</td>\n",
       "      <td>3</td>\n",
       "      <td>64</td>\n",
       "      <td>2</td>\n",
       "      <td>1634</td>\n",
       "      <td>68.0</td>\n",
       "      <td>456</td>\n",
       "      <td>2024-03-05 13:43:19</td>\n",
       "      <td>66</td>\n",
       "      <td>2020</td>\n",
       "      <td>Indie</td>\n",
       "      <td>Media</td>\n",
       "    </tr>\n",
       "    <tr>\n",
       "      <th>...</th>\n",
       "      <td>...</td>\n",
       "      <td>...</td>\n",
       "      <td>...</td>\n",
       "      <td>...</td>\n",
       "      <td>...</td>\n",
       "      <td>...</td>\n",
       "      <td>...</td>\n",
       "      <td>...</td>\n",
       "      <td>...</td>\n",
       "      <td>...</td>\n",
       "      <td>...</td>\n",
       "      <td>...</td>\n",
       "      <td>...</td>\n",
       "      <td>...</td>\n",
       "      <td>...</td>\n",
       "      <td>...</td>\n",
       "    </tr>\n",
       "    <tr>\n",
       "      <th>3763</th>\n",
       "      <td>the-otterman-empire</td>\n",
       "      <td>The Otterman Empire</td>\n",
       "      <td>0</td>\n",
       "      <td>2020-07-02</td>\n",
       "      <td>0.00</td>\n",
       "      <td>0</td>\n",
       "      <td>0</td>\n",
       "      <td>0</td>\n",
       "      <td>0</td>\n",
       "      <td>76.5</td>\n",
       "      <td>333</td>\n",
       "      <td>2020-12-16 15:29:54</td>\n",
       "      <td>0</td>\n",
       "      <td>2020</td>\n",
       "      <td>Casual</td>\n",
       "      <td>Media</td>\n",
       "    </tr>\n",
       "    <tr>\n",
       "      <th>3764</th>\n",
       "      <td>jacks-or-better-video-poker</td>\n",
       "      <td>Jacks or Better - Video Poker</td>\n",
       "      <td>0</td>\n",
       "      <td>2020-06-12</td>\n",
       "      <td>0.00</td>\n",
       "      <td>0</td>\n",
       "      <td>0</td>\n",
       "      <td>0</td>\n",
       "      <td>0</td>\n",
       "      <td>76.5</td>\n",
       "      <td>0</td>\n",
       "      <td>2022-04-29 05:58:06</td>\n",
       "      <td>0</td>\n",
       "      <td>2020</td>\n",
       "      <td>Casual</td>\n",
       "      <td>Media</td>\n",
       "    </tr>\n",
       "    <tr>\n",
       "      <th>3765</th>\n",
       "      <td>jumanji-the-curse-returns</td>\n",
       "      <td>Jumanji: The Curse Returns</td>\n",
       "      <td>0</td>\n",
       "      <td>2021-09-01</td>\n",
       "      <td>0.00</td>\n",
       "      <td>0</td>\n",
       "      <td>0</td>\n",
       "      <td>0</td>\n",
       "      <td>0</td>\n",
       "      <td>76.0</td>\n",
       "      <td>251</td>\n",
       "      <td>2022-09-19 08:16:26</td>\n",
       "      <td>0</td>\n",
       "      <td>2021</td>\n",
       "      <td>Adventure</td>\n",
       "      <td>Media</td>\n",
       "    </tr>\n",
       "    <tr>\n",
       "      <th>3766</th>\n",
       "      <td>avocuddle</td>\n",
       "      <td>AvoCuddle</td>\n",
       "      <td>0</td>\n",
       "      <td>2019-07-12</td>\n",
       "      <td>0.00</td>\n",
       "      <td>0</td>\n",
       "      <td>0</td>\n",
       "      <td>0</td>\n",
       "      <td>0</td>\n",
       "      <td>73.0</td>\n",
       "      <td>400</td>\n",
       "      <td>2020-12-16 14:38:36</td>\n",
       "      <td>0</td>\n",
       "      <td>2019</td>\n",
       "      <td>Indie</td>\n",
       "      <td>Media</td>\n",
       "    </tr>\n",
       "    <tr>\n",
       "      <th>3767</th>\n",
       "      <td>tarzan-vr</td>\n",
       "      <td>Tarzan VR</td>\n",
       "      <td>0</td>\n",
       "      <td>2020-11-17</td>\n",
       "      <td>0.00</td>\n",
       "      <td>0</td>\n",
       "      <td>0</td>\n",
       "      <td>0</td>\n",
       "      <td>0</td>\n",
       "      <td>72.0</td>\n",
       "      <td>395</td>\n",
       "      <td>2024-01-10 08:44:02</td>\n",
       "      <td>0</td>\n",
       "      <td>2020</td>\n",
       "      <td>Adventure</td>\n",
       "      <td>Media</td>\n",
       "    </tr>\n",
       "  </tbody>\n",
       "</table>\n",
       "<p>3768 rows × 16 columns</p>\n",
       "</div>"
      ],
      "text/plain": [
       "                             slug                           name  playtime  \\\n",
       "0                       hellpoint                      Hellpoint         3   \n",
       "1                       anomaly-2                      Anomaly 2         2   \n",
       "2                       reverse-4         Resident Evil Re:Verse         1   \n",
       "3                 x-morph-defense               X-Morph: Defense         3   \n",
       "4                    west-of-dead                   West of Dead         1   \n",
       "...                           ...                            ...       ...   \n",
       "3763          the-otterman-empire            The Otterman Empire         0   \n",
       "3764  jacks-or-better-video-poker  Jacks or Better - Video Poker         0   \n",
       "3765    jumanji-the-curse-returns     Jumanji: The Curse Returns         0   \n",
       "3766                    avocuddle                      AvoCuddle         0   \n",
       "3767                    tarzan-vr                      Tarzan VR         0   \n",
       "\n",
       "        released  rating  rating_top  ratings_count  reviews_text_count  \\\n",
       "0     2020-07-30    2.76           3             51                   2   \n",
       "1     2013-05-14    2.90           4             62                   0   \n",
       "2     2022-10-28    1.53           1             63                   0   \n",
       "3     2017-08-30    3.08           3             47                   1   \n",
       "4     2020-06-08    3.08           3             64                   2   \n",
       "...          ...     ...         ...            ...                 ...   \n",
       "3763  2020-07-02    0.00           0              0                   0   \n",
       "3764  2020-06-12    0.00           0              0                   0   \n",
       "3765  2021-09-01    0.00           0              0                   0   \n",
       "3766  2019-07-12    0.00           0              0                   0   \n",
       "3767  2020-11-17    0.00           0              0                   0   \n",
       "\n",
       "      added  metacritic  suggestions_count              updated  \\\n",
       "0      2182        61.0                494  2024-11-26 14:58:37   \n",
       "1      1898        77.0                610  2024-10-07 11:59:32   \n",
       "2      1662        78.0                456  2024-11-14 19:49:03   \n",
       "3      1657        75.0                702  2024-11-08 09:09:44   \n",
       "4      1634        68.0                456  2024-03-05 13:43:19   \n",
       "...     ...         ...                ...                  ...   \n",
       "3763      0        76.5                333  2020-12-16 15:29:54   \n",
       "3764      0        76.5                  0  2022-04-29 05:58:06   \n",
       "3765      0        76.0                251  2022-09-19 08:16:26   \n",
       "3766      0        73.0                400  2020-12-16 14:38:36   \n",
       "3767      0        72.0                395  2024-01-10 08:44:02   \n",
       "\n",
       "      reviews_count  release_year main_genre metacritic_category  \n",
       "0                54          2020      Indie               Media  \n",
       "1                62          2013   Strategy               Media  \n",
       "2                64          2022    Shooter               Media  \n",
       "3                48          2017      Indie               Media  \n",
       "4                66          2020      Indie               Media  \n",
       "...             ...           ...        ...                 ...  \n",
       "3763              0          2020     Casual               Media  \n",
       "3764              0          2020     Casual               Media  \n",
       "3765              0          2021  Adventure               Media  \n",
       "3766              0          2019      Indie               Media  \n",
       "3767              0          2020  Adventure               Media  \n",
       "\n",
       "[3768 rows x 16 columns]"
      ]
     },
     "execution_count": 4,
     "metadata": {},
     "output_type": "execute_result"
    }
   ],
   "source": [
    "file_path = '../data/processed/Juegorawg_limpio.csv'\n",
    "df = pd.read_csv(file_path)\n",
    "df.copy()"
   ]
  },
  {
   "cell_type": "markdown",
   "metadata": {},
   "source": [
    "# Feature numericas derivadas\n",
    "1. Aplicar logaritmo a playtime para reducir la influencia de valores extremos.\n"
   ]
  },
  {
   "cell_type": "code",
   "execution_count": 8,
   "metadata": {},
   "outputs": [],
   "source": [
    "df['playtime_log'] = df['playtime'].apply(lambda x: np.log1p(x))"
   ]
  },
  {
   "cell_type": "markdown",
   "metadata": {},
   "source": [
    "# Codificamos las variables categoricas"
   ]
  },
  {
   "cell_type": "code",
   "execution_count": 5,
   "metadata": {},
   "outputs": [],
   "source": [
    "df = pd.get_dummies(df, columns=['main_genre', 'metacritic_category'], drop_first=True)"
   ]
  },
  {
   "cell_type": "markdown",
   "metadata": {},
   "source": [
    "### Reviso que no haya datos numericos en X"
   ]
  },
  {
   "cell_type": "code",
   "execution_count": 6,
   "metadata": {},
   "outputs": [
    {
     "name": "stdout",
     "output_type": "stream",
     "text": [
      "Eliminando columnas no numéricas: ['slug', 'name', 'released', 'updated']\n"
     ]
    }
   ],
   "source": [
    "non_numeric_columns = df.select_dtypes(include=['object']).columns\n",
    "if len(non_numeric_columns) > 0:\n",
    "    print(\"Eliminando columnas no numéricas:\", non_numeric_columns.tolist())\n",
    "    df.drop(columns=non_numeric_columns, inplace=True)"
   ]
  },
  {
   "cell_type": "markdown",
   "metadata": {},
   "source": [
    "# Escalado de varianles numericas"
   ]
  },
  {
   "cell_type": "code",
   "execution_count": 9,
   "metadata": {},
   "outputs": [],
   "source": [
    "scaler = StandardScaler()\n",
    "num_vars = ['rating', 'metacritic', 'playtime_log']\n",
    "df[num_vars] = scaler.fit_transform(df[num_vars])\n"
   ]
  },
  {
   "cell_type": "markdown",
   "metadata": {},
   "source": [
    "# Seperacion en el conjunto de entrenamiento con respecto a nuestra target ' rating'"
   ]
  },
  {
   "cell_type": "code",
   "execution_count": 10,
   "metadata": {},
   "outputs": [],
   "source": [
    "X = df.drop(columns=['rating']) \n",
    "y = df['rating']  \n",
    "X_train, X_test, y_train, y_test = train_test_split(X, y, test_size=0.2, random_state=42)"
   ]
  },
  {
   "cell_type": "markdown",
   "metadata": {},
   "source": [
    "### Balanceo de datos"
   ]
  },
  {
   "cell_type": "code",
   "execution_count": 11,
   "metadata": {},
   "outputs": [],
   "source": [
    "quantile_low = y_train.quantile(0.05)  \n",
    "quantile_high = y_train.quantile(0.95)  \n",
    "mask = (y_train >= quantile_low) & (y_train <= quantile_high)\n",
    "X_train_balanced = X_train[mask]\n",
    "y_train_balanced = y_train[mask]"
   ]
  },
  {
   "cell_type": "code",
   "execution_count": 12,
   "metadata": {},
   "outputs": [],
   "source": [
    "assert X_train_balanced.select_dtypes(include=['object']).shape[1] == 0, \"Aún hay columnas categóricas en X_train_balanced\""
   ]
  },
  {
   "cell_type": "markdown",
   "metadata": {},
   "source": [
    "# Entrenamiento del modelo Random Forest Regressor"
   ]
  },
  {
   "cell_type": "code",
   "execution_count": 13,
   "metadata": {},
   "outputs": [],
   "source": [
    "rf_model = RandomForestRegressor(n_estimators=100, random_state=42)\n",
    "rf_model.fit(X_train_balanced, y_train_balanced)\n",
    "\n",
    "'''Predicciones'''\n",
    "y_pred = rf_model.predict(X_test)"
   ]
  },
  {
   "cell_type": "markdown",
   "metadata": {},
   "source": [
    "# Evaluación del modelo"
   ]
  },
  {
   "cell_type": "code",
   "execution_count": 14,
   "metadata": {},
   "outputs": [
    {
     "name": "stdout",
     "output_type": "stream",
     "text": [
      "MSE: 0.02423602821277413\n",
      "R² Score: 0.9756826085827873\n"
     ]
    }
   ],
   "source": [
    "mse = mean_squared_error(y_test, y_pred)\n",
    "r2 = r2_score(y_test, y_pred)\n",
    "print(f\"MSE: {mse}\")\n",
    "print(f\"R² Score: {r2}\")"
   ]
  },
  {
   "cell_type": "markdown",
   "metadata": {},
   "source": [
    "## Primer resumen"
   ]
  },
  {
   "cell_type": "code",
   "execution_count": 15,
   "metadata": {},
   "outputs": [
    {
     "name": "stdout",
     "output_type": "stream",
     "text": [
      "          playtime   rating_top  ratings_count  reviews_text_count  \\\n",
      "count  2866.000000  2866.000000    2866.000000         2866.000000   \n",
      "mean      1.996162     1.570482      11.434403            0.174110   \n",
      "std       1.834416     1.796473      15.840987            0.517788   \n",
      "min       0.000000     0.000000       0.000000            0.000000   \n",
      "25%       0.000000     0.000000       1.000000            0.000000   \n",
      "50%       2.000000     0.000000       4.000000            0.000000   \n",
      "75%       3.000000     4.000000      16.000000            0.000000   \n",
      "max       8.000000     5.000000      67.000000            8.000000   \n",
      "\n",
      "             added   metacritic  suggestions_count  reviews_count  \\\n",
      "count  2866.000000  2866.000000        2866.000000    2866.000000   \n",
      "mean    182.214236    -0.026166         309.238660      11.699581   \n",
      "std     272.443220     1.032261         155.313715      16.145719   \n",
      "min       0.000000    -9.743525           0.000000       0.000000   \n",
      "25%      14.000000    -0.224658         194.000000       1.000000   \n",
      "50%      66.000000     0.109337         292.000000       4.000000   \n",
      "75%     226.000000     0.443333         413.000000      16.750000   \n",
      "max    1898.000000     3.115296        1354.000000      68.000000   \n",
      "\n",
      "       release_year  playtime_log  \n",
      "count   2866.000000   2866.000000  \n",
      "mean    2018.136776     -0.026336  \n",
      "std        2.763789      1.005077  \n",
      "min     2000.000000     -1.388969  \n",
      "25%     2016.000000     -1.388969  \n",
      "50%     2018.000000      0.285439  \n",
      "75%     2020.000000      0.723898  \n",
      "max     2024.000000      1.959847  \n",
      "count    2866.000000\n",
      "mean       -0.087221\n",
      "std         0.955317\n",
      "min        -0.912107\n",
      "25%        -0.912107\n",
      "50%        -0.912107\n",
      "75%         0.968789\n",
      "max         1.484788\n",
      "Name: rating, dtype: float64\n"
     ]
    }
   ],
   "source": [
    "print(X_train_balanced.describe())\n",
    "print(y_train_balanced.describe())"
   ]
  }
 ],
 "metadata": {
  "kernelspec": {
   "display_name": "ml-DsEFPCCK-py3.11",
   "language": "python",
   "name": "python3"
  },
  "language_info": {
   "codemirror_mode": {
    "name": "ipython",
    "version": 3
   },
   "file_extension": ".py",
   "mimetype": "text/x-python",
   "name": "python",
   "nbconvert_exporter": "python",
   "pygments_lexer": "ipython3",
   "version": "3.11.9"
  }
 },
 "nbformat": 4,
 "nbformat_minor": 2
}
